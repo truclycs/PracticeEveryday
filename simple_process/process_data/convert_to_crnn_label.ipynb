{
 "cells": [
  {
   "cell_type": "code",
   "execution_count": 9,
   "id": "demanding-coverage",
   "metadata": {},
   "outputs": [],
   "source": [
    "input_dir = 'line_cin_vtp/test.txt'\n",
    "out_dir = 'line_cin_vtp/crnn/test_line.txt'"
   ]
  },
  {
   "cell_type": "code",
   "execution_count": 10,
   "id": "french-change",
   "metadata": {},
   "outputs": [],
   "source": [
    "with open(input_dir, 'r') as f:\n",
    "    data = f.read()\n",
    "    data = data.split('\\n')\n",
    "    with open(out_dir, 'a') as f:\n",
    "        for line in data:\n",
    "            filename, value = line.split('\\t')\n",
    "            f.write(filename + '\\n')        "
   ]
  }
 ],
 "metadata": {
  "kernelspec": {
   "display_name": "Python 3.7.9 64-bit ('trucly': conda)",
   "language": "python",
   "name": "python379jvsc74a57bd053f8531f8a1289345cfd1ef9b1f845e345088f8adbc0cf2d1bfc28911f67306c"
  },
  "language_info": {
   "codemirror_mode": {
    "name": "ipython",
    "version": 3
   },
   "file_extension": ".py",
   "mimetype": "text/x-python",
   "name": "python",
   "nbconvert_exporter": "python",
   "pygments_lexer": "ipython3",
   "version": "3.7.9"
  }
 },
 "nbformat": 4,
 "nbformat_minor": 5
}

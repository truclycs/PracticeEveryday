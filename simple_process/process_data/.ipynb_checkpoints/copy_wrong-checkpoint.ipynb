{
 "cells": [
  {
   "cell_type": "code",
   "execution_count": null,
   "metadata": {},
   "outputs": [],
   "source": [
    "import shutil\n",
    "from pathlib import Path\n",
    "\n",
    "file_label = 'val.txt'\n",
    "s_folder = Path('vtp_split/val')\n",
    "e_folder = Path('wrong_val')\n",
    "\n",
    "\n",
    "with open(file_label, 'r') as f:\n",
    "    lines = f.read().split('\\n')\n",
    "\n",
    "file_names = {}\n",
    "text = []\n",
    "for line in lines:\n",
    "    text.append(line)\n",
    "    image_file, gt, pre = line.split('\\t')\n",
    "    image_file = image_file.split('/')[-1]\n",
    "    file_name = image_file.split('.')[0]\n",
    "    if file_name in file_names:\n",
    "        print(file_name)\n",
    "    else:\n",
    "        file_names[file_name] = 1\n",
    "    \n",
    "    shutil.copy(s_folder.joinpath(image_file), e_folder.joinpath(image_file))\n",
    "    \n",
    "text = sorted(text)\n",
    "text_output = 'val_sorted.txt'\n",
    "with open(text_output, 'w') as f:\n",
    "    for t in text:\n",
    "        f.write(t + '\\n')"
   ]
  }
 ],
 "metadata": {
  "interpreter": {
   "hash": "53f8531f8a1289345cfd1ef9b1f845e345088f8adbc0cf2d1bfc28911f67306c"
  },
  "kernelspec": {
   "display_name": "Python 3",
   "language": "python",
   "name": "python3"
  },
  "language_info": {
   "codemirror_mode": {
    "name": "ipython",
    "version": 3
   },
   "file_extension": ".py",
   "mimetype": "text/x-python",
   "name": "python",
   "nbconvert_exporter": "python",
   "pygments_lexer": "ipython3",
   "version": "3.7.9"
  }
 },
 "nbformat": 4,
 "nbformat_minor": 4
}

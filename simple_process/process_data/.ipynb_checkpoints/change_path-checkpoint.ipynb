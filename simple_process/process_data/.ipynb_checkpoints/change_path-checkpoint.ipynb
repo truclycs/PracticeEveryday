{
 "cells": [
  {
   "cell_type": "code",
   "execution_count": 1,
   "source": [
    "import json\n",
    "import numpy as np\n",
    "import cv2\n",
    "import matplotlib.pyplot as plt\n",
    "import os\n",
    "\n",
    "from pathlib import Path"
   ],
   "outputs": [],
   "metadata": {}
  },
  {
   "cell_type": "code",
   "execution_count": 5,
   "source": [
    "# image_patterns = ['*.jpg', '*.png', '*.jpeg', '*.JPG', '*.PNG', '*.JPEG']\n",
    "patterns = ['*.json']\n",
    "input_dir = Path('/home/trucly/Documents/DATASET/VTP/auto_labeled/labeled_HN')\n",
    "output_dir = Path('/home/trucly/Documents/DATASET/VTP/auto_labeled/labeled_HN')\n",
    "paths = []\n",
    "for pattern in patterns:\n",
    "    paths += list(input_dir.glob(f'**/{pattern}'))      "
   ],
   "outputs": [],
   "metadata": {}
  },
  {
   "cell_type": "code",
   "execution_count": 6,
   "source": [
    "for path in paths:\n",
    "    filename = str(path)\n",
    "    with open(filename, 'r') as f:\n",
    "        obj = json.load(f)\n",
    "        \n",
    "    image_path = obj['imagePath']\n",
    "    image_name = image_path.split('/')[-1]\n",
    "    obj['imagePath'] = image_name\n",
    "    name = image_name.split('.')[0]\n",
    "    \n",
    "    with open(str(output_dir) + '/' + name + '.json', 'w') as fp:\n",
    "        json.dump(obj, fp)\n",
    "    \n",
    "    "
   ],
   "outputs": [],
   "metadata": {}
  },
  {
   "cell_type": "code",
   "execution_count": null,
   "source": [],
   "outputs": [],
   "metadata": {}
  }
 ],
 "metadata": {
  "kernelspec": {
   "name": "python3",
   "display_name": "Python 3.7.9 64-bit ('trucly': conda)"
  },
  "language_info": {
   "codemirror_mode": {
    "name": "ipython",
    "version": 3
   },
   "file_extension": ".py",
   "mimetype": "text/x-python",
   "name": "python",
   "nbconvert_exporter": "python",
   "pygments_lexer": "ipython3",
   "version": "3.7.9"
  },
  "interpreter": {
   "hash": "53f8531f8a1289345cfd1ef9b1f845e345088f8adbc0cf2d1bfc28911f67306c"
  }
 },
 "nbformat": 4,
 "nbformat_minor": 4
}
{
 "cells": [
  {
   "cell_type": "code",
   "execution_count": 41,
   "id": "bigger-hybrid",
   "metadata": {},
   "outputs": [],
   "source": [
    "import json\n",
    "import numpy as np\n",
    "import cv2\n",
    "from pathlib import Path\n",
    "import matplotlib.pyplot as plt\n",
    "import os"
   ]
  },
  {
   "cell_type": "code",
   "execution_count": 42,
   "id": "falling-holder",
   "metadata": {},
   "outputs": [],
   "source": [
    "with open('vtp/test.txt', 'r') as f:\n",
    "    data_test = f.read()\n",
    "    data_test = data_test.split('\\n')"
   ]
  },
  {
   "cell_type": "code",
   "execution_count": 43,
   "id": "expected-anaheim",
   "metadata": {},
   "outputs": [],
   "source": [
    "for line in data_test:\n",
    "    name = line.split('\\t')[0]\n",
    "    file = Path('vtp/' + name)\n",
    "    if not file.exists():\n",
    "        print(name)"
   ]
  },
  {
   "cell_type": "code",
   "execution_count": 39,
   "id": "included-adams",
   "metadata": {},
   "outputs": [],
   "source": [
    "data_test = sorted(data_test)"
   ]
  },
  {
   "cell_type": "code",
   "execution_count": 47,
   "id": "pleased-companion",
   "metadata": {},
   "outputs": [],
   "source": [
    "with open('test.txt', 'a') as f:\n",
    "    for line in data_test:\n",
    "        f.write(str(line) + '\\n')"
   ]
  },
  {
   "cell_type": "code",
   "execution_count": 4,
   "id": "compatible-destruction",
   "metadata": {},
   "outputs": [],
   "source": [
    "file_test = []\n",
    "for line in data_test:\n",
    "    file = line.split('\\t')[0]\n",
    "    file_test.append(file)"
   ]
  },
  {
   "cell_type": "code",
   "execution_count": 52,
   "id": "martial-parameter",
   "metadata": {},
   "outputs": [],
   "source": [
    "with open('vtp/train.txt', 'r') as f:\n",
    "    data_train = f.read()\n",
    "    data_train = data_train.split('\\n')"
   ]
  },
  {
   "cell_type": "code",
   "execution_count": 48,
   "id": "agricultural-alcohol",
   "metadata": {},
   "outputs": [],
   "source": [
    "data_train = sorted(data_train)"
   ]
  },
  {
   "cell_type": "code",
   "execution_count": 49,
   "id": "monetary-scholar",
   "metadata": {},
   "outputs": [],
   "source": [
    "with open('train.txt', 'a') as f:\n",
    "    for line in data_train:\n",
    "        f.write(str(line) + '\\n')"
   ]
  },
  {
   "cell_type": "code",
   "execution_count": 53,
   "id": "collaborative-germany",
   "metadata": {},
   "outputs": [],
   "source": [
    "file_train = []\n",
    "for line in data_train:\n",
    "    file = line.split('\\t')[0]\n",
    "    file_train.append(file)"
   ]
  },
  {
   "cell_type": "code",
   "execution_count": 7,
   "id": "wired-linux",
   "metadata": {},
   "outputs": [],
   "source": [
    "with open('vtp/val.txt', 'r') as f:\n",
    "    data_val = f.read()\n",
    "    data_val = data_val.split('\\n')"
   ]
  },
  {
   "cell_type": "code",
   "execution_count": 50,
   "id": "tight-series",
   "metadata": {},
   "outputs": [],
   "source": [
    "data_val = sorted(data_val)"
   ]
  },
  {
   "cell_type": "code",
   "execution_count": 51,
   "id": "ranging-diana",
   "metadata": {},
   "outputs": [],
   "source": [
    "with open('val.txt', 'a') as f:\n",
    "    for line in data_val:\n",
    "        f.write(str(line) + '\\n')"
   ]
  },
  {
   "cell_type": "code",
   "execution_count": 8,
   "id": "preliminary-mailman",
   "metadata": {},
   "outputs": [],
   "source": [
    "file_val = []\n",
    "for line in data_val:\n",
    "    file = line.split('\\t')[0]\n",
    "    file_val.append(file)"
   ]
  },
  {
   "cell_type": "code",
   "execution_count": 9,
   "id": "alive-happiness",
   "metadata": {},
   "outputs": [
    {
     "name": "stdout",
     "output_type": "stream",
     "text": [
      "\n"
     ]
    }
   ],
   "source": [
    "for file in file_val:\n",
    "    if file in file_train:\n",
    "        print(file)"
   ]
  },
  {
   "cell_type": "code",
   "execution_count": 10,
   "id": "liberal-montgomery",
   "metadata": {},
   "outputs": [
    {
     "name": "stdout",
     "output_type": "stream",
     "text": [
      "\n"
     ]
    }
   ],
   "source": [
    "for file in file_train:\n",
    "    if file in file_val:\n",
    "        print(file)"
   ]
  },
  {
   "cell_type": "code",
   "execution_count": 11,
   "id": "earlier-prior",
   "metadata": {},
   "outputs": [
    {
     "name": "stdout",
     "output_type": "stream",
     "text": [
      "\n"
     ]
    }
   ],
   "source": [
    "for file in file_test:\n",
    "    if file in file_train:\n",
    "        print(file)"
   ]
  },
  {
   "cell_type": "code",
   "execution_count": 12,
   "id": "raising-rebate",
   "metadata": {},
   "outputs": [
    {
     "name": "stdout",
     "output_type": "stream",
     "text": [
      "\n"
     ]
    }
   ],
   "source": [
    "for file in file_test:\n",
    "    if file in file_val:\n",
    "        print(file)"
   ]
  },
  {
   "cell_type": "code",
   "execution_count": 13,
   "id": "incomplete-miracle",
   "metadata": {},
   "outputs": [
    {
     "name": "stdout",
     "output_type": "stream",
     "text": [
      "\n"
     ]
    }
   ],
   "source": [
    "for file in file_train:\n",
    "    if file in file_test:\n",
    "        print(file)"
   ]
  },
  {
   "cell_type": "code",
   "execution_count": 14,
   "id": "visible-trademark",
   "metadata": {},
   "outputs": [
    {
     "name": "stdout",
     "output_type": "stream",
     "text": [
      "\n"
     ]
    }
   ],
   "source": [
    "for file in file_val:\n",
    "    if file in file_test:\n",
    "        print(file)"
   ]
  },
  {
   "cell_type": "code",
   "execution_count": 15,
   "id": "voluntary-ratio",
   "metadata": {},
   "outputs": [],
   "source": [
    "d = {}\n",
    "for file in file_test:\n",
    "    if file not in d:\n",
    "        d[file] = 1\n",
    "    else:\n",
    "        d[file] += 1\n",
    "\n",
    "for x in d:\n",
    "    if d[x] == 2:\n",
    "        print(x)"
   ]
  },
  {
   "cell_type": "code",
   "execution_count": null,
   "id": "distinct-diana",
   "metadata": {},
   "outputs": [],
   "source": [
    "for file in"
   ]
  },
  {
   "cell_type": "code",
   "execution_count": 54,
   "id": "continuous-antarctica",
   "metadata": {},
   "outputs": [
    {
     "name": "stdout",
     "output_type": "stream",
     "text": [
      "\n"
     ]
    }
   ],
   "source": [
    "d = {}\n",
    "for file in file_train:\n",
    "    if file not in d:\n",
    "        d[file] = 1\n",
    "    else:\n",
    "        d[file] += 1\n",
    "\n",
    "for x in d:\n",
    "    if d[x] == 2:\n",
    "        print(x)"
   ]
  },
  {
   "cell_type": "code",
   "execution_count": 17,
   "id": "colonial-refrigerator",
   "metadata": {},
   "outputs": [],
   "source": [
    "d = {}\n",
    "for file in file_val:\n",
    "    if file not in d:\n",
    "        d[file] = 1\n",
    "    else:\n",
    "        d[file] += 1\n",
    "\n",
    "for x in d:\n",
    "    if d[x] == 2:\n",
    "        print(x)"
   ]
  },
  {
   "cell_type": "code",
   "execution_count": 18,
   "id": "herbal-initial",
   "metadata": {},
   "outputs": [
    {
     "data": {
      "text/plain": [
       "['V_RD1_IMG20201004083150.jpg',\n",
       " 'V_RD1_IMG20201004090232.jpg',\n",
       " 'V_RD1_IMG20201004080830.jpg',\n",
       " 'V_RD1_IMG20201004083316.jpg',\n",
       " 'V_RD1_IMG20201004072652.jpg',\n",
       " 'V_RD1_IMG20201004075520.jpg',\n",
       " 'V_RD1_IMG20201004124323.jpg',\n",
       " 'V_RD1_IMG20201004081045.jpg',\n",
       " 'V_RD1_IMG20201004074618.jpg',\n",
       " 'V_RD1_IMG20201004083345.jpg',\n",
       " 'V_RD1_IMG20201004082729.jpg',\n",
       " 'V_RD1_IMG20201004091644.jpg',\n",
       " 'V_SPHONE1_IMG20201004085309.jpg',\n",
       " 'V_SPHONE1_IMG20201004083224.jpg',\n",
       " 'V_SPHONE1_IMG20201004091934.jpg',\n",
       " 'V_SPHONE1_IMG20201004075126.jpg',\n",
       " 'V_SPHONE1_IMG20201004074040.jpg',\n",
       " 'V_RA1_IMG20201004072652.jpg',\n",
       " 'V_RA1_IMG20201004073248.jpg',\n",
       " 'V_RA1_IMG20201004075520.jpg',\n",
       " 'V_RA1_IMG20201004124323.jpg',\n",
       " 'V_RA1_IMG20201004081045.jpg',\n",
       " 'V_SA1_IMG20201004124323.jpg',\n",
       " 'V_SA1_IMG20201004083925.jpg',\n",
       " 'V_SA1_IMG20201004072646.jpg',\n",
       " 'V_SA1_IMG20201004091708.jpg',\n",
       " 'V_SA1_IMG20201004074618.jpg',\n",
       " 'SIGN_NAME_IMG20201004124323.jpg',\n",
       " 'SIGN_NAME_IMG20201004081045.jpg',\n",
       " 'SIGN_NAME_IMG20201004083925.jpg',\n",
       " 'SIGN_NAME_IMG20201004091708.jpg',\n",
       " 'V_SN1_IMG20201004080950.jpg',\n",
       " 'V_SN1_IMG20201004083643.jpg',\n",
       " 'V_SN1_IMG20201004072848.jpg',\n",
       " 'V_RW1_IMG20201004085736.jpg',\n",
       " 'V_RW1_IMG20201004080422.jpg',\n",
       " 'V_RW1_IMG20201004080803.jpg',\n",
       " 'V_RN1_IMG20201004081609.jpg',\n",
       " 'V_RN1_IMG20201004091847.jpg',\n",
       " 'V_RN1_IMG20201004074553.jpg',\n",
       " 'V_RN1_IMG20201004074458.jpg',\n",
       " 'V_RW1_IMG20201004083027.jpg',\n",
       " 'V_RW1_IMG20201004074704.jpg',\n",
       " 'V_RP1_IMG20201004083237.jpg',\n",
       " 'V_RA1_IMG20201004085855.jpg',\n",
       " 'V_RA1_IMG20201004074609.jpg',\n",
       " 'V_RA1_IMG20201004080529.jpg',\n",
       " 'V_RP1_IMG20201004092029.jpg',\n",
       " 'V_RP1_IMG20201004085736.jpg',\n",
       " 'V_RP1_IMG20201004072848.jpg',\n",
       " 'V_RN2_IMG20201004080422.jpg',\n",
       " 'V_RN2_IMG20201004080803.jpg',\n",
       " 'V_RN2_IMG20201004083027.jpg',\n",
       " 'V_RN2_IMG20201004074704.jpg',\n",
       " 'V_RN1_IMG20201004081423.jpg',\n",
       " 'V_RN1_IMG20201004083150.jpg',\n",
       " 'V_RN2_IMG20201004072646.jpg',\n",
       " 'V_RA1_IMG20201004085940.jpg',\n",
       " 'V_RN2_IMG20201004083838.jpg',\n",
       " 'V_RN2_IMG20201004075805.jpg',\n",
       " 'V_RN2_IMG20201004083224.jpg',\n",
       " 'V_RN2_IMG20201004075550.jpg',\n",
       " 'V_RN2_IMG20201004072610.jpg',\n",
       " 'V_RN2_IMG20201004080529.jpg',\n",
       " 'V_SPHONE1_IMG20201004143412.jpg',\n",
       " 'V_SA1_IMG20201004072652.jpg',\n",
       " 'V_RW1_IMG20201004075805.jpg',\n",
       " 'V_RW1_IMG20201004083224.jpg',\n",
       " 'V_RW1_IMG20201004091934.jpg',\n",
       " 'V_RW1_IMG20201004075550.jpg',\n",
       " 'V_RW1_IMG20201004075126.jpg',\n",
       " 'V_RN1_IMG20201004083838.jpg',\n",
       " 'V_RN1_IMG20201004073042.jpg',\n",
       " 'V_RN2_IMG20201004143351.jpg',\n",
       " 'V_RN2_IMG20201004080611.jpg',\n",
       " 'V_RP1_IMG20201004081045.jpg',\n",
       " 'V_RPHONE1_IMG20201004074553.jpg',\n",
       " 'V_RPHONE1_IMG20201004074458.jpg',\n",
       " 'V_RPHONE1_IMG20201004085940.jpg',\n",
       " 'V_SPHONE1_IMG20201004080803.jpg',\n",
       " 'V_PHONE1_IMG20201004083643.jpg',\n",
       " 'V_PHONE1_IMG20201004072848.jpg',\n",
       " 'V_SN1_IMG20201004074447.jpg',\n",
       " 'V_SN1_IMG20201004142059.jpg',\n",
       " 'V_RA1_IMG20201004124539.jpg',\n",
       " '']"
      ]
     },
     "execution_count": 18,
     "metadata": {},
     "output_type": "execute_result"
    }
   ],
   "source": []
  },
  {
   "cell_type": "code",
   "execution_count": null,
   "id": "victorian-monitoring",
   "metadata": {},
   "outputs": [],
   "source": []
  }
 ],
 "metadata": {
  "kernelspec": {
   "display_name": "Python 3",
   "language": "python",
   "name": "python3"
  },
  "language_info": {
   "codemirror_mode": {
    "name": "ipython",
    "version": 3
   },
   "file_extension": ".py",
   "mimetype": "text/x-python",
   "name": "python",
   "nbconvert_exporter": "python",
   "pygments_lexer": "ipython3",
   "version": "3.7.9"
  }
 },
 "nbformat": 4,
 "nbformat_minor": 5
}

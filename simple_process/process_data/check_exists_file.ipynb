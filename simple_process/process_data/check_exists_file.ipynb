{
 "cells": [
  {
   "cell_type": "code",
   "execution_count": null,
   "id": "bigger-hybrid",
   "metadata": {},
   "outputs": [],
   "source": [
    "import json\n",
    "import numpy as np\n",
    "import cv2\n",
    "from pathlib import Path\n",
    "import matplotlib.pyplot as plt\n",
    "import os"
   ]
  },
  {
   "cell_type": "code",
   "execution_count": null,
   "id": "falling-holder",
   "metadata": {},
   "outputs": [],
   "source": [
    "with open('vtp/test.txt', 'r') as f:\n",
    "    data_test = f.read()\n",
    "    data_test = data_test.split('\\n')"
   ]
  },
  {
   "cell_type": "code",
   "execution_count": null,
   "id": "expected-anaheim",
   "metadata": {},
   "outputs": [],
   "source": [
    "for line in data_test:\n",
    "    name = line.split('\\t')[0]\n",
    "    file = Path('vtp/' + name)\n",
    "    if not file.exists():\n",
    "        print(name)"
   ]
  },
  {
   "cell_type": "code",
   "execution_count": null,
   "id": "included-adams",
   "metadata": {},
   "outputs": [],
   "source": [
    "data_test = sorted(data_test)"
   ]
  },
  {
   "cell_type": "code",
   "execution_count": null,
   "id": "pleased-companion",
   "metadata": {},
   "outputs": [],
   "source": [
    "with open('test.txt', 'a') as f:\n",
    "    for line in data_test:\n",
    "        f.write(str(line) + '\\n')"
   ]
  },
  {
   "cell_type": "code",
   "execution_count": null,
   "id": "compatible-destruction",
   "metadata": {},
   "outputs": [],
   "source": [
    "file_test = []\n",
    "for line in data_test:\n",
    "    file = line.split('\\t')[0]\n",
    "    file_test.append(file)"
   ]
  },
  {
   "cell_type": "code",
   "execution_count": null,
   "id": "martial-parameter",
   "metadata": {},
   "outputs": [],
   "source": [
    "with open('vtp/train.txt', 'r') as f:\n",
    "    data_train = f.read()\n",
    "    data_train = data_train.split('\\n')"
   ]
  },
  {
   "cell_type": "code",
   "execution_count": null,
   "id": "agricultural-alcohol",
   "metadata": {},
   "outputs": [],
   "source": [
    "data_train = sorted(data_train)"
   ]
  },
  {
   "cell_type": "code",
   "execution_count": null,
   "id": "monetary-scholar",
   "metadata": {},
   "outputs": [],
   "source": [
    "with open('train.txt', 'a') as f:\n",
    "    for line in data_train:\n",
    "        f.write(str(line) + '\\n')"
   ]
  },
  {
   "cell_type": "code",
   "execution_count": null,
   "id": "collaborative-germany",
   "metadata": {},
   "outputs": [],
   "source": [
    "file_train = []\n",
    "for line in data_train:\n",
    "    file = line.split('\\t')[0]\n",
    "    file_train.append(file)"
   ]
  },
  {
   "cell_type": "code",
   "execution_count": null,
   "id": "wired-linux",
   "metadata": {},
   "outputs": [],
   "source": [
    "with open('vtp/val.txt', 'r') as f:\n",
    "    data_val = f.read()\n",
    "    data_val = data_val.split('\\n')"
   ]
  },
  {
   "cell_type": "code",
   "execution_count": null,
   "id": "tight-series",
   "metadata": {},
   "outputs": [],
   "source": [
    "data_val = sorted(data_val)"
   ]
  },
  {
   "cell_type": "code",
   "execution_count": null,
   "id": "ranging-diana",
   "metadata": {},
   "outputs": [],
   "source": [
    "with open('val.txt', 'a') as f:\n",
    "    for line in data_val:\n",
    "        f.write(str(line) + '\\n')"
   ]
  },
  {
   "cell_type": "code",
   "execution_count": null,
   "id": "preliminary-mailman",
   "metadata": {},
   "outputs": [],
   "source": [
    "file_val = []\n",
    "for line in data_val:\n",
    "    file = line.split('\\t')[0]\n",
    "    file_val.append(file)"
   ]
  },
  {
   "cell_type": "code",
   "execution_count": null,
   "id": "alive-happiness",
   "metadata": {},
   "outputs": [],
   "source": [
    "for file in file_val:\n",
    "    if file in file_train:\n",
    "        print(file)"
   ]
  },
  {
   "cell_type": "code",
   "execution_count": null,
   "id": "liberal-montgomery",
   "metadata": {},
   "outputs": [],
   "source": [
    "for file in file_train:\n",
    "    if file in file_val:\n",
    "        print(file)"
   ]
  },
  {
   "cell_type": "code",
   "execution_count": null,
   "id": "earlier-prior",
   "metadata": {},
   "outputs": [],
   "source": [
    "for file in file_test:\n",
    "    if file in file_train:\n",
    "        print(file)"
   ]
  },
  {
   "cell_type": "code",
   "execution_count": null,
   "id": "raising-rebate",
   "metadata": {},
   "outputs": [],
   "source": [
    "for file in file_test:\n",
    "    if file in file_val:\n",
    "        print(file)"
   ]
  },
  {
   "cell_type": "code",
   "execution_count": null,
   "id": "incomplete-miracle",
   "metadata": {},
   "outputs": [],
   "source": [
    "for file in file_train:\n",
    "    if file in file_test:\n",
    "        print(file)"
   ]
  },
  {
   "cell_type": "code",
   "execution_count": null,
   "id": "visible-trademark",
   "metadata": {},
   "outputs": [],
   "source": [
    "for file in file_val:\n",
    "    if file in file_test:\n",
    "        print(file)"
   ]
  },
  {
   "cell_type": "code",
   "execution_count": null,
   "id": "voluntary-ratio",
   "metadata": {},
   "outputs": [],
   "source": [
    "d = {}\n",
    "for file in file_test:\n",
    "    if file not in d:\n",
    "        d[file] = 1\n",
    "    else:\n",
    "        d[file] += 1\n",
    "\n",
    "for x in d:\n",
    "    if d[x] == 2:\n",
    "        print(x)"
   ]
  },
  {
   "cell_type": "code",
   "execution_count": null,
   "id": "distinct-diana",
   "metadata": {},
   "outputs": [],
   "source": [
    "for file in"
   ]
  },
  {
   "cell_type": "code",
   "execution_count": null,
   "id": "continuous-antarctica",
   "metadata": {},
   "outputs": [],
   "source": [
    "d = {}\n",
    "for file in file_train:\n",
    "    if file not in d:\n",
    "        d[file] = 1\n",
    "    else:\n",
    "        d[file] += 1\n",
    "\n",
    "for x in d:\n",
    "    if d[x] == 2:\n",
    "        print(x)"
   ]
  },
  {
   "cell_type": "code",
   "execution_count": null,
   "id": "colonial-refrigerator",
   "metadata": {},
   "outputs": [],
   "source": [
    "d = {}\n",
    "for file in file_val:\n",
    "    if file not in d:\n",
    "        d[file] = 1\n",
    "    else:\n",
    "        d[file] += 1\n",
    "\n",
    "for x in d:\n",
    "    if d[x] == 2:\n",
    "        print(x)"
   ]
  }
 ],
 "metadata": {
  "kernelspec": {
   "display_name": "Python 3",
   "language": "python",
   "name": "python3"
  },
  "language_info": {
   "codemirror_mode": {
    "name": "ipython",
    "version": 3
   },
   "file_extension": ".py",
   "mimetype": "text/x-python",
   "name": "python",
   "nbconvert_exporter": "python",
   "pygments_lexer": "ipython3",
   "version": "3.7.9"
  }
 },
 "nbformat": 4,
 "nbformat_minor": 5
}

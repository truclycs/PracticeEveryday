{
 "cells": [
  {
   "cell_type": "code",
   "execution_count": 1,
   "metadata": {},
   "outputs": [],
   "source": [
    "import json\n",
    "import numpy as np\n",
    "import cv2\n",
    "import matplotlib.pyplot as plt\n",
    "import os\n",
    "from pathlib import Path"
   ]
  },
  {
   "cell_type": "code",
   "execution_count": 2,
   "metadata": {},
   "outputs": [],
   "source": [
    "def get_warped_images(image, pts):\n",
    "    rect = order_points(pts)\n",
    "    tl, tr, br, bl = rect\n",
    "    widthA = np.sqrt(((br[0] - bl[0]) ** 2) + ((br[1] - bl[1]) ** 2))\n",
    "    widthB = np.sqrt(((tr[0] - tl[0]) ** 2) + ((tr[1] - tl[1]) ** 2))\n",
    "    maxWidth = max(widthA, widthB)\n",
    "\n",
    "    heightA = np.sqrt(((tr[0] - br[0]) ** 2) + ((tr[1] - br[1]) ** 2))\n",
    "    heightB = np.sqrt(((tl[0] - bl[0]) ** 2) + ((tl[1] - bl[1]) ** 2))\n",
    "    maxHeight = max(heightA, heightB)\n",
    "\n",
    "    dst = np.array([\n",
    "        [0, 0],\n",
    "        [maxWidth - 1, 0],\n",
    "        [maxWidth - 1, maxHeight - 1],\n",
    "    [0, maxHeight - 1]], dtype = \"float32\")\n",
    "    \n",
    "    rect = np.array(rect, dtype = \"float32\")\n",
    "    M = cv2.getPerspectiveTransform(src=rect, dst=dst)\n",
    "    warped = cv2.warpPerspective(image, M=M, dsize=(int(maxWidth), int(maxHeight)))\n",
    "\n",
    "    return warped"
   ]
  },
  {
   "cell_type": "code",
   "execution_count": 3,
   "metadata": {},
   "outputs": [],
   "source": [
    "# image_patterns = ['*.jpg', '*.png', '*.jpeg', '*.JPG', '*.PNG', '*.JPEG']\n",
    "patterns = ['*.json']\n",
    "input_dir = Path('/home/trucly/Documents/DATASET/handwritten/merge_bg/vnondb_vtp/create_background')\n",
    "output_dir = Path('/home/trucly/Documents/DATASET/handwritten/merge_bg/vnondb_vtp/textline')\n",
    "paths = []\n",
    "for pattern in patterns:\n",
    "    paths += list(input_dir.glob(f'**/{pattern}'))      "
   ]
  },
  {
   "cell_type": "code",
   "execution_count": 4,
   "metadata": {},
   "outputs": [],
   "source": [
    "cnt = 0\n",
    "for path in paths:\n",
    "    filename = str(path)\n",
    "    with open(filename, 'r') as f:\n",
    "        obj = json.load(f)\n",
    "        \n",
    "    image_name = obj['imagePath']\n",
    "    image = cv2.imread(str(input_dir.joinpath(image_name)))\n",
    "    shapes = obj['shapes']\n",
    "\n",
    "    for x in shapes:\n",
    "        cnt += 1\n",
    "        point = x['points']\n",
    "\n",
    "#         value = x['value']\n",
    "        if len(point) == 4:\n",
    "            line = get_warped_images(image, order_points(point))\n",
    "        elif len(point) == 2:\n",
    "            line = image[int(point[0][1]):int(point[1][1]), int(point[0][0]):int(point[1][0])]\n",
    "        else:\n",
    "            continue\n",
    "            \n",
    "#         image_path = output_dir.joinpath(path.stem + '_' + str(cnt) + '.jpg')\n",
    "        image_path = output_dir.joinpath('bg_' + str(cnt) + '.jpg')\n",
    "        cv2.imwrite(str(image_path), line)\n",
    "#             f.write(value)\n",
    "\n",
    "#         label_path = output_dir.joinpath('label.txt')\n",
    "#         with open(str(label_path), 'a') as f:\n",
    "#             f.write(path.stem + '_' + str(cnt) + '.jpg' + '\\t' + value + '\\n')"
   ]
  }
 ],
 "metadata": {
  "kernelspec": {
   "display_name": "Python 3",
   "language": "python",
   "name": "python3"
  },
  "language_info": {
   "codemirror_mode": {
    "name": "ipython",
    "version": 3
   },
   "file_extension": ".py",
   "mimetype": "text/x-python",
   "name": "python",
   "nbconvert_exporter": "python",
   "pygments_lexer": "ipython3",
   "version": "3.7.9"
  }
 },
 "nbformat": 4,
 "nbformat_minor": 4
}

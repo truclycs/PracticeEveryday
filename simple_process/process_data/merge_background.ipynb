{
 "cells": [
  {
   "cell_type": "code",
   "execution_count": null,
   "id": "08696f3e",
   "metadata": {},
   "outputs": [],
   "source": [
    "import cv2\n",
    "from pathlib import Path"
   ]
  },
  {
   "cell_type": "code",
   "execution_count": null,
   "id": "ad4423e2",
   "metadata": {},
   "outputs": [],
   "source": [
    "input_bg_dir = '/home/trucly/Documents/DATASET/handwritten/merge_bg/vnondb_vtp/textline/'\n",
    "input_hw_dir = '/home/trucly/Documents/DATASET/handwritten/merge_bg/vnondb_vtp/line_vnondb/test_line/'\n",
    "label_dir = '/home/trucly/Documents/DATASET/handwritten/merge_bg/vnondb_vtp/line_vnondb/annotation_line/test.txt'\n",
    "output_dir = '/home/trucly/Documents/DATASET/handwritten/merge_bg/vnondb_vtp/merge/test/'\n",
    "output_annotation = '/home/trucly/Documents/DATASET/handwritten/merge_bg/vnondb_vtp/merge/annotation/test.txt'"
   ]
  },
  {
   "cell_type": "code",
   "execution_count": null,
   "id": "2fa56617",
   "metadata": {},
   "outputs": [],
   "source": [
    "input_bg_paths = list(Path(input_bg_dir).glob('*.jpg'))\n",
    "input_hw_paths = list(Path(input_hw_dir).glob('*.png'))"
   ]
  },
  {
   "cell_type": "code",
   "execution_count": null,
   "id": "fe7c5520",
   "metadata": {},
   "outputs": [],
   "source": [
    "with open(label_dir, 'r') as f:\n",
    "    label_file = f.read().split('\\n')"
   ]
  },
  {
   "cell_type": "code",
   "execution_count": null,
   "id": "f9b254d9",
   "metadata": {},
   "outputs": [],
   "source": [
    "count = 0\n",
    "for bg_path in input_bg_paths:\n",
    "    background = cv2.imread(str(bg_path))\n",
    "\n",
    "    for line in label_file:        \n",
    "        filename, label = line.split('\\t')\n",
    "        \n",
    "        hw = cv2.imread(input_hw_dir + filename)\n",
    "    \n",
    "        if hw is None:\n",
    "            continue\n",
    "\n",
    "        if background.size / hw.size > 1.3 or background.size / hw.size < 0.5:\n",
    "            continue\n",
    "\n",
    "        bg = cv2.resize(background, (hw.shape[1], hw.shape[0]))\n",
    "    \n",
    "        merge_image = cv2.bitwise_and(hw, bg)\n",
    "        \n",
    "        count += 1\n",
    "        output_filename = 'mvv_' + str(count)\n",
    "        \n",
    "        cv2.imwrite(output_dir + output_filename + '.jpg', merge_image)              \n",
    "        \n",
    "        with open(output_dir + output_filename + '.txt', 'w') as f:\n",
    "            f.write(label)\n",
    "        \n",
    "        with open(output_annotation, 'a') as f:\n",
    "            f.write(output_filename + '.jpg' + '\\t' + label + '\\n')\n",
    "        "
   ]
  }
 ],
 "metadata": {
  "interpreter": {
   "hash": "04ae01e09885c3e461d0113c4ca3438d89df38a64d0d98cd2e0219caa91692ba"
  },
  "kernelspec": {
   "display_name": "Python 3",
   "language": "python",
   "name": "python3"
  },
  "language_info": {
   "codemirror_mode": {
    "name": "ipython",
    "version": 3
   },
   "file_extension": ".py",
   "mimetype": "text/x-python",
   "name": "python",
   "nbconvert_exporter": "python",
   "pygments_lexer": "ipython3",
   "version": "3.7.9"
  }
 },
 "nbformat": 4,
 "nbformat_minor": 5
}

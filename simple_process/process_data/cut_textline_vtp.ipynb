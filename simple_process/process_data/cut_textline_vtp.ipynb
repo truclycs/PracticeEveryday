{
 "cells": [
  {
   "cell_type": "code",
   "execution_count": null,
   "metadata": {},
   "outputs": [],
   "source": [
    "import json\n",
    "import numpy as np\n",
    "import cv2\n",
    "from pathlib import Path\n",
    "import matplotlib.pyplot as plt\n",
    "import os"
   ]
  },
  {
   "cell_type": "code",
   "execution_count": null,
   "metadata": {},
   "outputs": [],
   "source": [
    "def order_points(points):\n",
    "    assert len(points) == 4, 'Length of points must be 4'\n",
    "    left = sorted(points, key=lambda p: p[0])[:2]\n",
    "    right = sorted(points, key=lambda p: p[0])[2:]\n",
    "    tl, bl = sorted(left, key=lambda p: p[1])\n",
    "    tr, br = sorted(right, key=lambda p: p[1])\n",
    "    return [tl, tr, br, bl]"
   ]
  },
  {
   "cell_type": "code",
   "execution_count": null,
   "metadata": {},
   "outputs": [],
   "source": [
    "def get_warped_images(image, pts):\n",
    "    rect = order_points(pts)\n",
    "    tl, tr, br, bl = rect\n",
    "    widthA = np.sqrt(((br[0] - bl[0]) ** 2) + ((br[1] - bl[1]) ** 2))\n",
    "    widthB = np.sqrt(((tr[0] - tl[0]) ** 2) + ((tr[1] - tl[1]) ** 2))\n",
    "    maxWidth = max(widthA, widthB)\n",
    "\n",
    "    heightA = np.sqrt(((tr[0] - br[0]) ** 2) + ((tr[1] - br[1]) ** 2))\n",
    "    heightB = np.sqrt(((tl[0] - bl[0]) ** 2) + ((tl[1] - bl[1]) ** 2))\n",
    "    maxHeight = max(heightA, heightB)\n",
    "\n",
    "    dst = np.array([\n",
    "        [0, 0],\n",
    "        [maxWidth - 1, 0],\n",
    "        [maxWidth - 1, maxHeight - 1],\n",
    "    [0, maxHeight - 1]], dtype = \"float32\")\n",
    "    \n",
    "    rect = np.array(rect, dtype = \"float32\")\n",
    "    M = cv2.getPerspectiveTransform(src=rect, dst=dst)\n",
    "    warped = cv2.warpPerspective(image, M=M, dsize=(int(maxWidth), int(maxHeight)))\n",
    "\n",
    "    return warped"
   ]
  },
  {
   "cell_type": "code",
   "execution_count": null,
   "metadata": {},
   "outputs": [],
   "source": [
    "def is_label(label):\n",
    "    start_key = ['V_', 'SIGN_NAME', 'DATE']\n",
    "    return any([label.startswith(key) for key in start_key])"
   ]
  },
  {
   "cell_type": "code",
   "execution_count": null,
   "metadata": {},
   "outputs": [],
   "source": [
    "# image_patterns = ['*.jpg', '*.png', '*.jpeg', '*.JPG', '*.PNG', '*.JPEG']\n",
    "patterns = ['*.json']\n",
    "input_dir = Path('/home/trucly/Documents/DATASET/HANDWRITTEN/completed/vtp_form_test')\n",
    "output_dir = Path('/home/trucly/Documents/DATASET/HANDWRITTEN/completed/vtp_line_test_merge')\n",
    "paths = []\n",
    "for pattern in patterns:\n",
    "    paths += list(input_dir.glob(f'**/{pattern}'))      "
   ]
  },
  {
   "cell_type": "code",
   "execution_count": null,
   "metadata": {},
   "outputs": [],
   "source": [
    "start_key = ['V_', 'SIGN_NAME', 'DATE']"
   ]
  },
  {
   "cell_type": "code",
   "execution_count": null,
   "metadata": {},
   "outputs": [],
   "source": [
    "for path in paths:\n",
    "    filename = str(path)\n",
    "    with open(filename, 'r') as f:\n",
    "        obj = json.load(f)\n",
    "        \n",
    "    image_name = obj['imagePath']\n",
    "    image = cv2.imread(str(input_dir.joinpath(image_name)))\n",
    "\n",
    "    print(str(input_dir.joinpath(image_name)))\n",
    "    shapes = obj['shapes']\n",
    "    for x in shapes:\n",
    "        point = x['points']\n",
    "        label = x['label']\n",
    "\n",
    "        if is_label(label) and len(x.get('value', '')) > 0:\n",
    "            value = x['value']\n",
    "            if len(point) == 4:\n",
    "                line = get_warped_images(image, order_points(point))\n",
    "            elif len(point) == 2:\n",
    "                line = image[int(point[0][1]):int(point[1][1]), int(point[0][0]):int(point[1][0])]\n",
    "            else:\n",
    "                continue\n",
    "            \n",
    "#             directory = output_dir.joinpath(label)\n",
    "#             directory.mkdir(exist_ok=True)\n",
    "\n",
    "            image_path = output_dir.joinpath(label + '_' + path.stem + '.jpg')\n",
    "            cv2.imwrite(str(image_path), line)\n",
    "            text_path = output_dir.joinpath(label + '_' + path.stem + '.txt')\n",
    "            with open(str(text_path), 'wt') as f:\n",
    "                f.write(value)\n",
    "\n",
    "            label_path = output_dir.joinpath('label.txt')\n",
    "            with open(str(label_path), 'a') as f:\n",
    "                f.write(label + '_' + path.stem + '.jpg' + '\\t' + value + '\\n')"
   ]
  },
  {
   "cell_type": "markdown",
   "metadata": {},
   "source": [
    "# Split train/val/test"
   ]
  },
  {
   "cell_type": "code",
   "execution_count": null,
   "metadata": {},
   "outputs": [],
   "source": [
    "# data_dir = output_dir\n",
    "# # data_dir = Path('/home/trucly/Documents/DATASET/HANDWRITTEN/general/vtp/vtp_line')"
   ]
  }
 ],
 "metadata": {
  "kernelspec": {
   "display_name": "Python 3",
   "language": "python",
   "name": "python3"
  },
  "language_info": {
   "codemirror_mode": {
    "name": "ipython",
    "version": 3
   },
   "file_extension": ".py",
   "mimetype": "text/x-python",
   "name": "python",
   "nbconvert_exporter": "python",
   "pygments_lexer": "ipython3",
   "version": "3.7.9"
  }
 },
 "nbformat": 4,
 "nbformat_minor": 4
}

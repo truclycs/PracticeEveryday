{
 "cells": [
  {
   "cell_type": "code",
   "execution_count": null,
   "metadata": {},
   "outputs": [],
   "source": [
    "import cv2\n",
    "import numpy as np\n",
    "import matplotlib.pyplot as plt"
   ]
  },
  {
   "cell_type": "code",
   "execution_count": null,
   "metadata": {},
   "outputs": [],
   "source": [
    "image_color = cv2.imread('passport.JPEG')"
   ]
  },
  {
   "cell_type": "code",
   "execution_count": null,
   "metadata": {},
   "outputs": [],
   "source": [
    "image = cv2.imread('passport.JPEG')\n",
    "image_detected = image.copy()\n",
    "gray = cv2.cvtColor(image, cv2.COLOR_BGR2GRAY)\n",
    "# gray = cv2.medianBlur(gray, 25)\n",
    "circles = cv2.HoughCircles(gray, cv2.HOUGH_GRADIENT, 60, 100)\n",
    "if circles is not None:\n",
    "\tcircles = np.round(circles[0, :]).astype(\"int\")\n",
    "\tfor (x, y, r) in circles:\n",
    "\t\tcv2.circle(image_detected, (x, y), r, (0, 255, 0), 4)\n",
    "\t\tcv2.rectangle(image_detected, (x - 5, y - 5), (x + 5, y + 5), (0, 128, 255), -1)\n",
    "\n",
    "# plt.axis('off')\n",
    "# plt.imshow(image_detected[:,:,::-1])"
   ]
  },
  {
   "cell_type": "code",
   "execution_count": null,
   "metadata": {},
   "outputs": [],
   "source": [
    "plt.imshow(gray, cmap='gray')"
   ]
  },
  {
   "cell_type": "code",
   "execution_count": null,
   "metadata": {},
   "outputs": [],
   "source": [
    "class HoughCircleDetection:\n",
    "    def __init__(self, rmin=10, rmax=20, step=180, threshold=0.4):\n",
    "        self.rmin = rmin\n",
    "        self.rmax = rmax\n",
    "        self.step = step\n",
    "        self.threshold = threshold\n",
    "        \n",
    "    def detect(self, image):\n",
    "        points = []\n",
    "        angle = 2 * np.pi / self.step\n",
    "        for r in range(self.rmin, self.rmax + 1):\n",
    "            for t in range(self.step):\n",
    "                points.append((r, int(r * np.cos(angle * t)), int(r * np.sin(angle * t))))\n",
    "        \n",
    "        acc = defaultdict(int)\n",
    "        edges = np.squeeze(cv2.findNonZero(image))\n",
    "        for x, y in edges:\n",
    "            for r, dx, dy in points:\n",
    "                a = x - dx\n",
    "                b = y - dy\n",
    "                acc[(a, b, r)] += 1\n",
    "            \n",
    "        circles = []\n",
    "        for k, v in sorted(acc.items(), key=lambda i: -i[1]):\n",
    "            x, y, r = k\n",
    "            if v / self.step >= self.threshold and all((x - xc) ** 2 + (y - yc) ** 2 > rc ** 2 for xc, yc, rc in circles):\n",
    "                circles.append((x, y, r))\n",
    "        \n",
    "        return circles\n",
    "    \n",
    "    def detect_circles(self, image):\n",
    "        angles = np.arange(0, 2 * math.pi, 2 * math.pi / self.step)\n",
    "        radius = np.arange(self.rmin, self.rmax, 1)\n",
    "\n",
    "        radius_arr = np.broadcast_to(np.expand_dims(radius, axis=1), (radius.size, angles.size))\n",
    "        angles_arr = np.broadcast_to(np.expand_dims(angles, axis=0), (radius.size, angles.size))\n",
    "        dx = radius_arr * np.cos(angles_arr)\n",
    "        dy = radius_arr * np.sin(angles_arr) \n",
    "        dxy = np.stack((dx, dy), axis=2) \n",
    "        \n",
    "\n",
    "        edges = np.squeeze(cv2.findNonZero(image)) \n",
    "        \n",
    "        dxy_arr = np.broadcast_to(np.expand_dims(dxy, axis=0), shape=(edges.shape[0], dxy.shape[0], dxy.shape[1], dxy.shape[2]))\n",
    "        edges = np.broadcast_to(np.expand_dims(edges, axis=(1, 2)), shape=(edges.shape[0], dxy.shape[0], dxy.shape[1], edges.shape[1]))\n",
    "            \n",
    "        circles = edges - dxy_arr "
   ]
  },
  {
   "cell_type": "code",
   "execution_count": null,
   "metadata": {},
   "outputs": [],
   "source": [
    "from collections import defaultdict\n",
    "import time\n",
    "\n",
    "image = cv2.imread('passport.JPEG', 0)\n",
    "image_detected = image.copy()\n",
    "\n",
    "start_time = time.time()\n",
    "edge = cv2.Canny(image, 50, 150)\n",
    "hough = HoughCircleDetection(15, 30, 180, 0.5)\n",
    "\n",
    "circles = hough.detect(edge)\n",
    "\n",
    "for x, y, r in circles:\n",
    "    cv2.circle(image_detected, (x, y), r, (0, 255, 0), 2)\n",
    "my_time = time.time() - start_time\n",
    "\n",
    "\n",
    "fig, ax = plt.subplots(1, 2, figsize=(16, 6))\n",
    "\n",
    "ax[0].imshow(image, cmap='gray')\n",
    "ax[0].set_title('Input image')\n",
    "ax[0].axis('off')\n",
    "\n",
    "ax[1].imshow(image_detected, cmap=\"gray\")\n",
    "ax[1].set_title('Implement: ' + str(my_time))\n",
    "ax[1].axis('off')"
   ]
  },
  {
   "cell_type": "code",
   "execution_count": null,
   "metadata": {},
   "outputs": [],
   "source": [
    "import cv2\n",
    "import numpy as np\n",
    "import matplotlib.pyplot as plt\n",
    "\n",
    "image = cv2.imread('passport.JPEG')\n",
    "output = image.copy()\n",
    "height, width = image.shape[:2]\n",
    "maxRadius = int(1.1*(width/12)/2)\n",
    "minRadius = int(0.9*(width/12)/2)\n",
    "\n",
    "gray = cv2.cvtColor(image, cv2.COLOR_BGR2GRAY)\n",
    "circles = cv2.HoughCircles(image=gray, \n",
    "                           method=cv2.HOUGH_GRADIENT, \n",
    "                           dp=71, \n",
    "                           minDist=450,\n",
    "                           param1=50,\n",
    "                           param2=50,\n",
    "                           minRadius=minRadius,\n",
    "                           maxRadius=maxRadius                           \n",
    "                          )\n",
    "\n",
    "if circles is not None:\n",
    "    # convert the (x, y) coordinates and radius of the circles to integers\n",
    "    circlesRound = np.round(circles[0, :]).astype(\"int\")\n",
    "    # loop over the (x, y) coordinates and radius of the circles\n",
    "    for (x, y, r) in circlesRound:\n",
    "        cv2.circle(output, (x, y), r, (0, 255, 0), 4)\n",
    "\n",
    "    plt.imshow(output[:,:,::-1])\n",
    "else:\n",
    "    print ('No circles found')"
   ]
  },
  {
   "cell_type": "code",
   "execution_count": null,
   "metadata": {},
   "outputs": [],
   "source": [
    "import cv2\n",
    "import numpy as np\n",
    "\n",
    "# Load image, grayscale, median blur, Otsus threshold\n",
    "image = cv2.imread('passport.JPEG')\n",
    "gray = cv2.cvtColor(image, cv2.COLOR_BGR2GRAY)\n",
    "blur = cv2.medianBlur(gray, 11)\n",
    "thresh = cv2.threshold(blur, 0, 255, cv2.THRESH_BINARY + cv2.THRESH_OTSU)[1]\n",
    "\n",
    "# Morph open \n",
    "kernel = cv2.getStructuringElement(cv2.MORPH_ELLIPSE, (5,5))\n",
    "opening = cv2.morphologyEx(thresh, cv2.MORPH_OPEN, kernel, iterations=3)\n",
    "\n",
    "# Find contours and filter using contour area and aspect ratio\n",
    "cnts = cv2.findContours(opening, cv2.RETR_EXTERNAL, cv2.CHAIN_APPROX_SIMPLE)\n",
    "cnts = cnts[0] if len(cnts) == 2 else cnts[1]\n",
    "for c in cnts:\n",
    "    peri = cv2.arcLength(c, True)\n",
    "    approx = cv2.approxPolyDP(c, 0.04 * peri, True)\n",
    "    area = cv2.contourArea(c)\n",
    "    if len(approx) > 5 and area > 1000 and area < 500000:\n",
    "        ((x, y), r) = cv2.minEnclosingCircle(c)\n",
    "        cv2.circle(image, (int(x), int(y)), int(r), (36, 255, 12), 2)"
   ]
  },
  {
   "cell_type": "code",
   "execution_count": null,
   "metadata": {},
   "outputs": [],
   "source": []
  },
  {
   "cell_type": "code",
   "execution_count": null,
   "metadata": {},
   "outputs": [],
   "source": [
    "import cv2\n",
    "import matplotlib.pyplot as plt"
   ]
  },
  {
   "cell_type": "code",
   "execution_count": null,
   "metadata": {},
   "outputs": [],
   "source": [
    "image = cv2.imread('passport.JPEG')\n",
    "gray = cv2.cvtColor(image, cv2.COLOR_BGR2GRAY)\n",
    "# blur = cv2.GaussianBlur(gray, (11, 11), 0)\n",
    "blur = cv2.medianBlur(gray, 5)"
   ]
  },
  {
   "cell_type": "code",
   "execution_count": null,
   "metadata": {},
   "outputs": [],
   "source": [
    "circles = cv2.HoughCircles(blur, cv2.HOUGH_GRADIENT, 20, 100,\n",
    "                             param1=100,param2=90,minRadius=0,maxRadius=200)"
   ]
  },
  {
   "cell_type": "code",
   "execution_count": null,
   "metadata": {},
   "outputs": [],
   "source": [
    "if circles is not None:\n",
    "\tcircles = np.round(circles[0, :]).astype(\"int\")\n",
    "\tfor (x, y, r) in circles:\n",
    "\t\tcv2.circle(image, (x, y), r, (0, 255, 0), 4)\n",
    "\t\tcv2.rectangle(image, (x - 5, y - 5), (x + 5, y + 5), (0, 128, 255), -1)"
   ]
  },
  {
   "cell_type": "code",
   "execution_count": null,
   "metadata": {},
   "outputs": [],
   "source": [
    "plt.imshow(blur, cmap='gray')"
   ]
  },
  {
   "cell_type": "code",
   "execution_count": null,
   "metadata": {},
   "outputs": [],
   "source": [
    "img = cv2.imread(\"passport.JPEG\")\n",
    "# cv2.imshow(\"original\", img)\n",
    "\n",
    "gray = cv2.cvtColor(img, cv2.COLOR_BGR2GRAY)\n",
    "# cv2.imshow(\"gray\", gray)\n",
    "\n",
    "blur = cv2.medianBlur(gray, 31)\n",
    "# cv2.imshow(\"blur\", blur)\n",
    "\n",
    "ret, thresh = cv2.threshold(blur, 127, 255, cv2.THRESH_OTSU)\n",
    "# cv2.imshow(\"thresh\", thresh)\n",
    "\n",
    "canny = cv2.Canny(thresh, 75, 200)\n",
    "# cv2.imshow('canny', canny)\n",
    "\n",
    "im2, contours, hierarchy = cv2.findContours(canny, cv2.RETR_TREE, cv2.CHAIN_APPROX_NONE)\n",
    "\n",
    "contour_list = []\n",
    "for contour in contours:\n",
    "    approx = cv2.approxPolyDP(contour, 0.01 * cv2.arcLength(contour, True), True)\n",
    "    area = cv2.contourArea(contour)\n",
    "    if 5000 < area < 15000:\n",
    "        contour_list.append(contour)\n",
    "\n",
    "msg = \"Total holes: {}\".format(len(approx)//2)\n",
    "cv2.putText(img, msg, (20, 40), cv2.FONT_HERSHEY_PLAIN, 2, (0, 0, 255), 2, cv2.LINE_AA)\n",
    "\n",
    "cv2.drawContours(img, contour_list, -1, (0, 255, 0), 2)"
   ]
  },
  {
   "cell_type": "code",
   "execution_count": null,
   "metadata": {},
   "outputs": [],
   "source": [
    "plt.imshow(img[:,:,::-1])"
   ]
  },
  {
   "cell_type": "markdown",
   "metadata": {},
   "source": [
    "# ................................"
   ]
  },
  {
   "cell_type": "code",
   "execution_count": null,
   "metadata": {},
   "outputs": [],
   "source": [
    "class HoughCircleDetection:\n",
    "    def __init__(self, rmin=10, rmax=20, step=180, threshold=0.4):\n",
    "        self.rmin = rmin\n",
    "        self.rmax = rmax\n",
    "        self.step = step\n",
    "        self.threshold = threshold\n",
    "        \n",
    "    def detect(self, image):\n",
    "        points = []\n",
    "        angle = 2 * np.pi / self.step\n",
    "        for r in range(self.rmin, self.rmax + 1):\n",
    "            for t in range(self.step):\n",
    "                points.append((r, int(r * np.cos(angle * t)), int(r * np.sin(angle * t))))\n",
    "        \n",
    "        acc = defaultdict(int)\n",
    "        edges = np.squeeze(cv2.findNonZero(image))\n",
    "        for x, y in edges:\n",
    "            for r, dx, dy in points:\n",
    "                a = x - dx\n",
    "                b = y - dy\n",
    "                acc[(a, b, r)] += 1\n",
    "            \n",
    "        circles = []\n",
    "        for k, v in sorted(acc.items(), key=lambda i: -i[1]):\n",
    "            x, y, r = k\n",
    "            if v / self.step >= self.threshold and all((x - xc) ** 2 + (y - yc) ** 2 > rc ** 2 for xc, yc, rc in circles):\n",
    "                circles.append((x, y, r))\n",
    "        \n",
    "        return circles\n",
    "    \n",
    "    def detect_circles(self, image):\n",
    "        angles = np.arange(0, 2 * math.pi, 2 * math.pi / self.step)\n",
    "        radius = np.arange(self.rmin, self.rmax, 1)\n",
    "\n",
    "        radius_arr = np.broadcast_to(np.expand_dims(radius, axis=1), (radius.size, angles.size))\n",
    "        angles_arr = np.broadcast_to(np.expand_dims(angles, axis=0), (radius.size, angles.size))\n",
    "        dx = radius_arr * np.cos(angles_arr)\n",
    "        dy = radius_arr * np.sin(angles_arr) \n",
    "        dxy = np.stack((dx, dy), axis=2) \n",
    "        \n",
    "\n",
    "        edges = np.squeeze(cv2.findNonZero(image)) \n",
    "        \n",
    "        dxy_arr = np.broadcast_to(np.expand_dims(dxy, axis=0), shape=(edges.shape[0], dxy.shape[0], dxy.shape[1], dxy.shape[2]))\n",
    "        edges = np.broadcast_to(np.expand_dims(edges, axis=(1, 2)), shape=(edges.shape[0], dxy.shape[0], dxy.shape[1], edges.shape[1]))\n",
    "            \n",
    "        circles = edges - dxy_arr "
   ]
  },
  {
   "cell_type": "code",
   "execution_count": null,
   "metadata": {},
   "outputs": [],
   "source": [
    "from collections import defaultdict\n",
    "import time\n",
    "import cv2\n",
    "import numpy as np\n",
    "import matplotlib.pyplot as plt\n",
    "\n",
    "image = cv2.imread('image.jpg', 0)\n",
    "image_detected = image.copy()\n",
    "\n",
    "start_time = time.time()\n",
    "edge = cv2.Canny(image, 50, 150)\n",
    "hough = HoughCircleDetection(30, 35, 180, 0.5)\n",
    "\n",
    "circles = hough.detect(edge)\n",
    "\n",
    "for x, y, r in circles:\n",
    "    cv2.circle(image_detected, (x, y), r, (0, 255, 0), 2)\n",
    "my_time = time.time() - start_time\n",
    "\n",
    "\n",
    "fig, ax = plt.subplots(1, 2, figsize=(16, 6))\n",
    "\n",
    "ax[0].imshow(image, cmap='gray')\n",
    "ax[0].set_title('Input image')\n",
    "ax[0].axis('off')\n",
    "\n",
    "ax[1].imshow(image_detected, cmap=\"gray\")\n",
    "ax[1].set_title('Implement: ' + str(my_time))\n",
    "ax[1].axis('off')"
   ]
  }
 ],
 "metadata": {
  "kernelspec": {
   "display_name": "Python 3",
   "language": "python",
   "name": "python3"
  },
  "language_info": {
   "codemirror_mode": {
    "name": "ipython",
    "version": 3
   },
   "file_extension": ".py",
   "mimetype": "text/x-python",
   "name": "python",
   "nbconvert_exporter": "python",
   "pygments_lexer": "ipython3",
   "version": "3.8.5"
  }
 },
 "nbformat": 4,
 "nbformat_minor": 4
}

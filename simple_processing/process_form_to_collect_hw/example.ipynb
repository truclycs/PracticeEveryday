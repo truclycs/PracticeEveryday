{
 "cells": [
  {
   "cell_type": "code",
   "execution_count": null,
   "metadata": {
    "executionInfo": {
     "elapsed": 12251,
     "status": "ok",
     "timestamp": 1611336213462,
     "user": {
      "displayName": "Ly Nguyễn Thị Trúc",
      "photoUrl": "https://lh3.googleusercontent.com/a-/AOh14GgTO4u7BVTP2x4w-IK207_mgn_G3S8sAQUR3sI=s64",
      "userId": "16613213413249005883"
     },
     "user_tz": -420
    },
    "id": "7Dl1DiIJBsb3"
   },
   "outputs": [],
   "source": [
    "import cv2\n",
    "import numpy as np\n",
    "import matplotlib.pyplot as plt"
   ]
  },
  {
   "cell_type": "code",
   "execution_count": null,
   "metadata": {
    "executionInfo": {
     "elapsed": 12848,
     "status": "ok",
     "timestamp": 1611336214149,
     "user": {
      "displayName": "Ly Nguyễn Thị Trúc",
      "photoUrl": "https://lh3.googleusercontent.com/a-/AOh14GgTO4u7BVTP2x4w-IK207_mgn_G3S8sAQUR3sI=s64",
      "userId": "16613213413249005883"
     },
     "user_tz": -420
    },
    "id": "HEdxI1UaBscU"
   },
   "outputs": [],
   "source": [
    "import numpy as np\n",
    "def distance(point1, point2):\n",
    "    point1 = np.float64(point1)\n",
    "    point2 = np.float64(point2)\n",
    "    return np.linalg.norm(point1 - point2)\n",
    "\n",
    "def distance2(point1, point2):\n",
    "    return np.sqrt((point1[0] - point2[0]) ** 2 + (point1[1] - point2[1]) ** 2)"
   ]
  },
  {
   "cell_type": "code",
   "execution_count": null,
   "metadata": {
    "executionInfo": {
     "elapsed": 12855,
     "status": "ok",
     "timestamp": 1611336214148,
     "user": {
      "displayName": "Ly Nguyễn Thị Trúc",
      "photoUrl": "https://lh3.googleusercontent.com/a-/AOh14GgTO4u7BVTP2x4w-IK207_mgn_G3S8sAQUR3sI=s64",
      "userId": "16613213413249005883"
     },
     "user_tz": -420
    },
    "id": "saphZgM9BscK"
   },
   "outputs": [],
   "source": [
    "import cv2\n",
    "import itertools\n",
    "import numpy as np\n",
    "from shapely.geometry import box, Point, Polygon\n",
    "\n",
    "\n",
    "class EnclosingQuadrilateral:\n",
    "    def __init__(self):\n",
    "        self.binary_threshold = 0.6\n",
    "        self.area_threshold = 0.0\n",
    "        self.vertical_threshold = 20\n",
    "        self.iou_threshold = 0.8\n",
    "\n",
    "    def _order_points(self, points):\n",
    "        assert len(points) == 4, 'Length of points must be 4'\n",
    "        left = sorted(points, key=lambda p: p[0])[:2]\n",
    "        right = sorted(points, key=lambda p: p[0])[2:]\n",
    "        tl, bl = sorted(left, key=lambda p: p[1])\n",
    "        tr, br = sorted(right, key=lambda p: p[1])\n",
    "        return [tl, tr, br, bl]\n",
    "\n",
    "    def _compute_iou(self, polyA, polyB):\n",
    "        iou = 0.\n",
    "        polyA = Polygon(polyA)\n",
    "        polyB = Polygon(polyB)\n",
    "        if polyA.intersects(polyB):\n",
    "            iou = polyA.intersection(polyB).area / polyA.union(polyB).area\n",
    "        return iou\n",
    "\n",
    "    def _intersection_point(self, line1, line2):\n",
    "        a1 = line1[1][1] - line1[0][1]\n",
    "        b1 = line1[0][0] - line1[1][0]\n",
    "        a2 = line2[1][1] - line2[0][1]\n",
    "        b2 = line2[0][0] - line2[1][0]\n",
    "        determinant = a1 * b2 - a2 * b1\n",
    "        if determinant == 0:\n",
    "            return None\n",
    "        c1 = (a1 / determinant) * line1[0][0] + (b1 / determinant) * line1[0][1]\n",
    "        c2 = (a2 / determinant) * line2[0][0] + (b2 / determinant) * line2[0][1]\n",
    "        x = b2 * c1 - b1 * c2\n",
    "        y = a1 * c2 - a2 * c1\n",
    "        return [int(x), int(y)]\n",
    "\n",
    "    def _convex_hulls(self, pred, binary_threshold=0.6, area_threshold=0.0, vertical_threshold=20):\n",
    "        convex_hulls = []\n",
    "        binary_image = (pred > binary_threshold).astype(np.uint8)\n",
    "        binary_image = cv2.morphologyEx(binary_image, cv2.MORPH_OPEN, np.ones(shape=(5, 5), dtype=np.uint8))\n",
    "        num_label, label = cv2.connectedComponents(binary_image)\n",
    "        for i in range(1, num_label):\n",
    "            contours, _ = cv2.findContours((label == i).astype(np.uint8), cv2.RETR_EXTERNAL, cv2.CHAIN_APPROX_SIMPLE)\n",
    "            contour = contours[0]\n",
    "            if cv2.contourArea(contour) > area_threshold * pred.size:\n",
    "                epsilon = 0.009 * cv2.arcLength(contour, closed=True)\n",
    "                approx_contour = cv2.approxPolyDP(contour, epsilon, closed=True)\n",
    "                convex_hull = cv2.convexHull(approx_contour)  # approximate contour to reduce num of points\n",
    "                for inc in range(5):\n",
    "                    if convex_hull.shape[0] <= vertical_threshold:\n",
    "                        break\n",
    "                    epsilon = 0.002 * (1 + inc) * cv2.arcLength(contour, closed=True)\n",
    "                    convex_hull = cv2.approxPolyDP(convex_hull, epsilon, closed=True)\n",
    "\n",
    "                if 4 <= convex_hull.shape[0] <= vertical_threshold:\n",
    "                    convex_hulls.append(np.squeeze(np.array(convex_hull), axis=1))\n",
    "\n",
    "        return convex_hulls\n",
    "\n",
    "    def _enclosing_quadrilateral(self, pred, convex_hulls, iou_threshold):\n",
    "        enclosing_quads = []\n",
    "        x1, x2 = [-pred.shape[0], 2 * pred.shape[0]]\n",
    "        y1, y2 = [-pred.shape[1], 2 * pred.shape[1]]\n",
    "        boundary = box(x1, y1, x2, y2)\n",
    "        for polygon in convex_hulls:\n",
    "            num_verticals = len(polygon)\n",
    "            max_iou = 0.\n",
    "            enclosing_quad = None\n",
    "            for (x, y, z, t) in itertools.combinations(range(num_verticals), 4):\n",
    "                lines = [\n",
    "                    [polygon[x], polygon[(x + 1) % num_verticals]],\n",
    "                    [polygon[y], polygon[(y + 1) % num_verticals]],\n",
    "                    [polygon[z], polygon[(z + 1) % num_verticals]],\n",
    "                    [polygon[t], polygon[(t + 1) % num_verticals]]\n",
    "                ]\n",
    "                points = []\n",
    "                for i in range(4):\n",
    "                    point = self._intersection_point(lines[i], lines[(i + 1) % 4])\n",
    "                    if (not point) or (point in points) or (not boundary.contains(Point(point))):\n",
    "                        break\n",
    "                    points.append(point)\n",
    "\n",
    "                if len(points) == 4 and Polygon(self._order_points(points)).is_valid:                    \n",
    "                    poly = Polygon(points)\n",
    "                    if  10000 < poly.area < 1000000:\n",
    "                        candidate_quad = self._order_points(points)\n",
    "                        iou = self._compute_iou(candidate_quad, polygon)\n",
    "                        if iou > max_iou and iou > iou_threshold:\n",
    "                            enclosing_quad = candidate_quad\n",
    "                            max_iou = iou\n",
    "\n",
    "            if enclosing_quad:\n",
    "                enclosing_quads.append(enclosing_quad)\n",
    "\n",
    "        return enclosing_quads\n",
    "\n",
    "    def __call__(self, pred):\n",
    "        convex_hulls = self._convex_hulls(pred, self.binary_threshold, self.area_threshold, self.vertical_threshold)\n",
    "        enclosing_quads = self._enclosing_quadrilateral(pred, convex_hulls, self.iou_threshold)\n",
    "        return enclosing_quads\n"
   ]
  },
  {
   "cell_type": "code",
   "execution_count": null,
   "metadata": {
    "executionInfo": {
     "elapsed": 12820,
     "status": "ok",
     "timestamp": 1611336214154,
     "user": {
      "displayName": "Ly Nguyễn Thị Trúc",
      "photoUrl": "https://lh3.googleusercontent.com/a-/AOh14GgTO4u7BVTP2x4w-IK207_mgn_G3S8sAQUR3sI=s64",
      "userId": "16613213413249005883"
     },
     "user_tz": -420
    },
    "id": "3Idb57CZBscJ"
   },
   "outputs": [],
   "source": [
    "def get_warped_image(image, quadrangle):\n",
    "    top_left, top_right, bottom_right, bottom_left = quadrangle\n",
    "\n",
    "    widthA = distance(bottom_right, bottom_left)\n",
    "    widthB = distance(top_right, top_left)\n",
    "    avgWidth = round((widthA + widthB) / 2)\n",
    "\n",
    "    heightA = distance(top_right, bottom_right)\n",
    "    heightB = distance(top_left, bottom_left)\n",
    "    avgHeight = round((heightA + heightB) / 2)\n",
    "\n",
    "    rectangle = np.float32([[0, 0], [avgWidth - 1, 0], [avgWidth - 1, avgHeight - 1], [0, avgHeight - 1]])\n",
    "    \n",
    "    persp_matrix = cv2.getPerspectiveTransform(quadrangle, rectangle)\n",
    "    warped_image = cv2.warpPerspective(image, persp_matrix, (int(avgWidth), int(avgHeight)))\n",
    "\n",
    "    return warped_image\n"
   ]
  },
  {
   "cell_type": "code",
   "execution_count": null,
   "metadata": {
    "colab": {
     "base_uri": "https://localhost:8080/"
    },
    "executionInfo": {
     "elapsed": 12814,
     "status": "ok",
     "timestamp": 1611336214155,
     "user": {
      "displayName": "Ly Nguyễn Thị Trúc",
      "photoUrl": "https://lh3.googleusercontent.com/a-/AOh14GgTO4u7BVTP2x4w-IK207_mgn_G3S8sAQUR3sI=s64",
      "userId": "16613213413249005883"
     },
     "user_tz": -420
    },
    "id": "OxqywADVBscP",
    "outputId": "33638cf9-9e9d-46d6-a2a1-b9095c10948f"
   },
   "outputs": [],
   "source": [
    "image = cv2.imread('sample.jpg')\n",
    "gray_image = cv2.cvtColor(image, cv2.COLOR_BGR2GRAY)\n",
    "ret, binary_image = cv2.threshold(gray_image, 0, 255, cv2.THRESH_BINARY | cv2.THRESH_OTSU)"
   ]
  },
  {
   "cell_type": "code",
   "execution_count": null,
   "metadata": {},
   "outputs": [],
   "source": [
    "minEnclosingQuad = EnclosingQuadrilateral()\n",
    "enclosing_quads = minEnclosingQuad(binary_image)"
   ]
  },
  {
   "cell_type": "code",
   "execution_count": null,
   "metadata": {
    "executionInfo": {
     "elapsed": 13325,
     "status": "ok",
     "timestamp": 1611336214710,
     "user": {
      "displayName": "Ly Nguyễn Thị Trúc",
      "photoUrl": "https://lh3.googleusercontent.com/a-/AOh14GgTO4u7BVTP2x4w-IK207_mgn_G3S8sAQUR3sI=s64",
      "userId": "16613213413249005883"
     },
     "user_tz": -420
    },
    "id": "NUavTXxbIRHH"
   },
   "outputs": [],
   "source": [
    "for i, polygon in enumerate(enclosing_quads):\n",
    "    quadrangle = np.float32(polygon)\n",
    "    warp_image = get_warped_image(image, quadrangle)\n",
    "    cv2.imwrite('textlines/' + str(i) + '.png', warp_image)\n",
    "    for i, point in enumerate(polygon):\n",
    "        cv2.circle(image, center=tuple(point), radius=3, color=(0, 0, 255), thickness=-1)\n",
    "        cv2.line(image, pt1=tuple(polygon[i % len(polygon)]), pt2=tuple(polygon[(i + 1) % len(polygon)]), color=(0, 255, 0), thickness=1)  "
   ]
  }
 ],
 "metadata": {
  "colab": {
   "authorship_tag": "ABX9TyNsVTQhDviexjtOXc3LI1QG",
   "collapsed_sections": [
    "MVpAlE-eieRZ"
   ],
   "name": "[5]_geometry.ipynb",
   "provenance": [],
   "toc_visible": true
  },
  "kernelspec": {
   "display_name": "Python 3",
   "language": "python",
   "name": "python3"
  },
  "language_info": {
   "codemirror_mode": {
    "name": "ipython",
    "version": 3
   },
   "file_extension": ".py",
   "mimetype": "text/x-python",
   "name": "python",
   "nbconvert_exporter": "python",
   "pygments_lexer": "ipython3",
   "version": "3.7.9"
  }
 },
 "nbformat": 4,
 "nbformat_minor": 4
}

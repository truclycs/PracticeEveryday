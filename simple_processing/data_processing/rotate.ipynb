{
 "cells": [
  {
   "cell_type": "code",
   "execution_count": null,
   "id": "confused-mileage",
   "metadata": {},
   "outputs": [],
   "source": [
    "import json\n",
    "import numpy as np\n",
    "import cv2\n",
    "from pathlib import Path\n",
    "import matplotlib.pyplot as plt\n",
    "import os\n",
    "\n",
    "patterns = ['*.jpg', '*.png', '*.jpeg', '*.JPG', '*.PNG', '*.JPEG']\n",
    "input_dir = Path('merge_all')\n",
    "\n",
    "paths = []\n",
    "for pattern in patterns:\n",
    "    paths += list(input_dir.glob(f'**/{pattern}'))    "
   ]
  },
  {
   "cell_type": "code",
   "execution_count": null,
   "id": "immune-quest",
   "metadata": {},
   "outputs": [],
   "source": [
    "# pip install Pillow if you don't already have it\n",
    "\n",
    "# import image utilities\n",
    "from PIL import Image\n",
    "\n",
    "# import os utilities\n",
    "import os\n",
    "\n",
    "# define a function that rotates images in the current directory\n",
    "# given the rotation in degrees as a parameter\n",
    "def rotateImages(rotationAmt):\n",
    "    for path in paths:\n",
    "        # open the image\n",
    "        filename = str(path)\n",
    "        img = Image.open(filename)\n",
    "        w, h = img.size\n",
    "        if w < h:\n",
    "            # rotate and save the image with the same filename\n",
    "            img.rotate(rotationAmt, expand=True).save(filename)\n",
    "            # close the image\n",
    "            img.close()\n",
    "    \n",
    "# examples of use\n",
    "rotateImages(90)"
   ]
  },
  {
   "cell_type": "code",
   "execution_count": null,
   "id": "smoking-principle",
   "metadata": {},
   "outputs": [],
   "source": [
    "import shutil\n",
    "temp_dir = Path('temp')\n",
    "output_dir = Path('out_put')\n",
    "\n",
    "for path in paths:\n",
    "    file = os.path.basename(path)\n",
    "    temp_path = temp_dir.joinpath(file)\n",
    "    if temp_path.is_file():\n",
    "        shutil.copy(temp_path, output_dir)\n",
    "    \n",
    "    "
   ]
  },
  {
   "cell_type": "code",
   "execution_count": null,
   "id": "measured-basis",
   "metadata": {},
   "outputs": [],
   "source": [
    "image = Image.open('out_put/IMG20201004072802.jpg')"
   ]
  },
  {
   "cell_type": "code",
   "execution_count": null,
   "id": "structural-disaster",
   "metadata": {},
   "outputs": [],
   "source": [
    "image"
   ]
  },
  {
   "cell_type": "code",
   "execution_count": null,
   "id": "dominican-equity",
   "metadata": {},
   "outputs": [],
   "source": [
    "img = image.rotate(90, expand=True)"
   ]
  },
  {
   "cell_type": "code",
   "execution_count": null,
   "id": "adopted-hopkins",
   "metadata": {},
   "outputs": [],
   "source": [
    "image.size"
   ]
  },
  {
   "cell_type": "code",
   "execution_count": null,
   "id": "married-state",
   "metadata": {},
   "outputs": [],
   "source": [
    "img.size"
   ]
  }
 ],
 "metadata": {
  "kernelspec": {
   "display_name": "Python 3.7.9 64-bit ('trucly': conda)",
   "language": "python",
   "name": "python379jvsc74a57bd053f8531f8a1289345cfd1ef9b1f845e345088f8adbc0cf2d1bfc28911f67306c"
  },
  "language_info": {
   "codemirror_mode": {
    "name": "ipython",
    "version": 3
   },
   "file_extension": ".py",
   "mimetype": "text/x-python",
   "name": "python",
   "nbconvert_exporter": "python",
   "pygments_lexer": "ipython3",
   "version": "3.7.9"
  }
 },
 "nbformat": 4,
 "nbformat_minor": 5
}

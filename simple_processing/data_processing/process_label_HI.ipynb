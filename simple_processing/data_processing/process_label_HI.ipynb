{
 "cells": [
  {
   "cell_type": "code",
   "execution_count": 54,
   "metadata": {},
   "outputs": [],
   "source": [
    "import cv2\n",
    "import json\n",
    "import collections\n",
    "from pathlib import Path"
   ]
  },
  {
   "cell_type": "code",
   "execution_count": 55,
   "metadata": {},
   "outputs": [],
   "source": [
    "patterns = ['*.json']\n",
    "input_dir = Path('/home/trucly/Documents/DATASET/PROJECTS/HEALTH_INSURANCE/all')\n",
    "output_dir = '/home/trucly/Documents/DATASET/PROJECTS/HEALTH_INSURANCE/after_process/'\n",
    "paths = []\n",
    "for pattern in patterns:\n",
    "    paths += list(input_dir.glob(f'**/{pattern}'))      "
   ]
  },
  {
   "cell_type": "code",
   "execution_count": 56,
   "metadata": {},
   "outputs": [],
   "source": [
    "for path in paths:\n",
    "    filename = str(path)\n",
    "    with open(filename, 'r') as f:\n",
    "        obj = json.load(f)\n",
    "\n",
    "    image_name = obj['imagePath']\n",
    "    image = cv2.imread(str(input_dir.joinpath(image_name)))\n",
    "    shapes = obj['shapes']    \n",
    "    ID = {}\n",
    "    index_id = -1\n",
    "    for i in range(len(shapes)):\n",
    "        x = shapes[i]\n",
    "        label = x['label']\n",
    "        if 'value' in x:\n",
    "            value = x['value']\n",
    "        if 'V_ID' in label:\n",
    "            if label != 'V_ID':\n",
    "                ID[label] = value \n",
    "            else:\n",
    "                index_id = i\n",
    "\n",
    "        if 'DATE' in label:\n",
    "            obj['shapes'][i]['value'] = \"\".join(x for x in value if x.isdigit())\n",
    "\n",
    "        if label == 'V_TL' or label == 'V_ISS':\n",
    "            obj['shapes'][i]['value'] = \"\".join(x for x in value if x.isdigit() or x == '/')\n",
    "\n",
    "\n",
    "    ID = collections.OrderedDict(sorted(ID.items()))\n",
    "    obj['shapes'][index_id]['value'] = \" \".join(x for x in ID.values())\n",
    "\n",
    "    with open(output_dir + image_name.split('.')[0] + '.json', 'w') as f:\n",
    "        json.dump(obj, f, indent=2)"
   ]
  }
 ],
 "metadata": {
  "kernelspec": {
   "display_name": "Python 3",
   "language": "python",
   "name": "python3"
  },
  "language_info": {
   "codemirror_mode": {
    "name": "ipython",
    "version": 3
   },
   "file_extension": ".py",
   "mimetype": "text/x-python",
   "name": "python",
   "nbconvert_exporter": "python",
   "pygments_lexer": "ipython3",
   "version": "3.7.6"
  }
 },
 "nbformat": 4,
 "nbformat_minor": 5
}

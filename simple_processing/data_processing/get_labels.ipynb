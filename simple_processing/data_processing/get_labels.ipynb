{
 "cells": [
  {
   "cell_type": "code",
   "execution_count": null,
   "metadata": {},
   "outputs": [],
   "source": [
    "import json\n",
    "import numpy as np\n",
    "import cv2\n",
    "from pathlib import Path\n",
    "import os"
   ]
  },
  {
   "cell_type": "code",
   "execution_count": null,
   "metadata": {},
   "outputs": [],
   "source": [
    "def is_label(label):\n",
    "    start_key = ['V_PV', 'V_RHONE']\n",
    "    return any([label.startswith(key) for key in start_key])"
   ]
  },
  {
   "cell_type": "code",
   "execution_count": null,
   "metadata": {},
   "outputs": [],
   "source": [
    "# image_patterns = ['*.jpg', '*.png', '*.jpeg', '*.JPG', '*.PNG', '*.JPEG']\n",
    "patterns = ['*.json']\n",
    "input_dir = Path('/home/trucly/Documents/vtcc/dataset/VTP/TEXTLINE/original')\n",
    "paths = []\n",
    "for pattern in patterns:\n",
    "    paths += list(input_dir.glob(f'**/{pattern}'))      "
   ]
  },
  {
   "cell_type": "code",
   "execution_count": null,
   "metadata": {},
   "outputs": [],
   "source": [
    "for path in paths:\n",
    "    filename = str(path)\n",
    "    with open(filename, 'r') as f:\n",
    "        obj = json.load(f)\n",
    "\n",
    "    image_name = obj['imagePath']\n",
    "    image = cv2.imread(str(input_dir.joinpath(image_name)))\n",
    "\n",
    "    shapes = obj['shapes']\n",
    "    for x in shapes:\n",
    "        point = x['points']\n",
    "        label = x['label']\n",
    "\n",
    "        if is_label(label):\n",
    "            print(path)"
   ]
  }
 ],
 "metadata": {
  "interpreter": {
   "hash": "53f8531f8a1289345cfd1ef9b1f845e345088f8adbc0cf2d1bfc28911f67306c"
  },
  "kernelspec": {
   "display_name": "Python 3",
   "language": "python",
   "name": "python3"
  },
  "language_info": {
   "codemirror_mode": {
    "name": "ipython",
    "version": 3
   },
   "file_extension": ".py",
   "mimetype": "text/x-python",
   "name": "python",
   "nbconvert_exporter": "python",
   "pygments_lexer": "ipython3",
   "version": "3.7.9"
  }
 },
 "nbformat": 4,
 "nbformat_minor": 4
}

{
 "cells": [
  {
   "cell_type": "code",
   "execution_count": null,
   "id": "0e2798aa-fb0b-4d7d-ab64-d5640afcbaf6",
   "metadata": {},
   "outputs": [],
   "source": [
    "with open('/home/trucly/Documents/DATASET/PROJECTS/DEGREE/label.txt', 'r') as f:\n",
    "    lines = f.readlines()\n",
    "    \n",
    "for line in lines:\n",
    "    file, value = line.split('\\t')\n",
    "    if '–' in value:\n",
    "        print(file, value)"
   ]
  },
  {
   "cell_type": "code",
   "execution_count": 2,
   "id": "bcd41b19-0227-4d70-81bd-1dc84b37f9dc",
   "metadata": {},
   "outputs": [],
   "source": [
    "with open('/home/trucly/Documents/DATASET/PROJECTS/DEGREE/04_main_text_lines/annotation/label.txt', 'r') as f:\n",
    "    lines = f.readlines()\n",
    "\n",
    "with open('/home/trucly/Documents/DATASET/PROJECTS/DEGREE/04_main_text_lines/annotation/filename.txt', 'r') as f:\n",
    "    filenames = f.readlines()\n",
    "    \n",
    "numbers = len(lines)"
   ]
  },
  {
   "cell_type": "code",
   "execution_count": 3,
   "id": "705cd8df-1e5b-42fe-b1ba-f8bc6d2c7b47",
   "metadata": {},
   "outputs": [],
   "source": [
    "num_train = int(numbers * 0.75)"
   ]
  },
  {
   "cell_type": "code",
   "execution_count": 4,
   "id": "48ffd12d-3f86-45e0-bdc6-bf783c2a66cf",
   "metadata": {},
   "outputs": [],
   "source": [
    "count = 0\n",
    "trains = []\n",
    "tests = []\n",
    "file_trains = []\n",
    "file_tests = []\n",
    "for line, file in zip(lines, filenames):\n",
    "    count += 1\n",
    "    if count < num_train:\n",
    "        trains.append(line)\n",
    "        file_trains.append(file)\n",
    "    else:\n",
    "        tests.append(line)\n",
    "        file_tests.append(file)"
   ]
  },
  {
   "cell_type": "code",
   "execution_count": 5,
   "id": "7b44c2cb-9cae-474f-8eed-ce3d60ad9e16",
   "metadata": {},
   "outputs": [],
   "source": [
    "def save_file(lines, file):\n",
    "    with open(file, 'w') as f:\n",
    "        for line in lines:\n",
    "            f.write(line)"
   ]
  },
  {
   "cell_type": "code",
   "execution_count": 6,
   "id": "30adc52d-1895-456d-82ed-3cf8e94eb005",
   "metadata": {},
   "outputs": [],
   "source": [
    "save_file(trains, '/home/trucly/Documents/DATASET/PROJECTS/DEGREE/04_main_text_lines/annotation/train.txt')"
   ]
  },
  {
   "cell_type": "code",
   "execution_count": 7,
   "id": "c1233897-602e-42cb-aed9-1989505725e8",
   "metadata": {},
   "outputs": [],
   "source": [
    "save_file(tests, '/home/trucly/Documents/DATASET/PROJECTS/DEGREE/04_main_text_lines/annotation/test.txt')"
   ]
  },
  {
   "cell_type": "code",
   "execution_count": 8,
   "id": "1ffac3b1-85bf-46af-9979-662ba17b89c9",
   "metadata": {},
   "outputs": [],
   "source": [
    "save_file(file_tests, '/home/trucly/Documents/DATASET/PROJECTS/DEGREE/04_main_text_lines/annotation/file_test.txt')"
   ]
  },
  {
   "cell_type": "code",
   "execution_count": 9,
   "id": "250994f3-c9c4-4779-b999-4618601bfead",
   "metadata": {},
   "outputs": [],
   "source": [
    "save_file(file_trains, '/home/trucly/Documents/DATASET/PROJECTS/DEGREE/04_main_text_lines/annotation/file_train.txt')"
   ]
  }
 ],
 "metadata": {
  "kernelspec": {
   "display_name": "Python 3",
   "language": "python",
   "name": "python3"
  },
  "language_info": {
   "codemirror_mode": {
    "name": "ipython",
    "version": 3
   },
   "file_extension": ".py",
   "mimetype": "text/x-python",
   "name": "python",
   "nbconvert_exporter": "python",
   "pygments_lexer": "ipython3",
   "version": "3.7.9"
  }
 },
 "nbformat": 4,
 "nbformat_minor": 5
}

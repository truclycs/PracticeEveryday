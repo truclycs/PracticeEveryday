{
 "cells": [
  {
   "cell_type": "code",
   "execution_count": null,
   "metadata": {},
   "outputs": [],
   "source": [
    "import json\n",
    "import numpy as np\n",
    "import cv2\n",
    "from pathlib import Path\n",
    "import matplotlib.pyplot as plt\n",
    "import os"
   ]
  },
  {
   "cell_type": "code",
   "execution_count": null,
   "metadata": {},
   "outputs": [],
   "source": [
    "# image_patterns = ['*.jpg', '*.png', '*.jpeg', '*.JPG', '*.PNG', '*.JPEG']\n",
    "patterns = ['*.jpg']\n",
    "input_dir = Path('/home/trucly/Documents/DATASET/HANDWRITTEN/general/cmqd/cmqd_merge/text/V_SPEC3')\n",
    "output_dir = Path('/home/trucly/Documents/DATASET/HANDWRITTEN/general/cmqd/cmqd')\n",
    "paths = []\n",
    "for pattern in patterns:\n",
    "    paths += list(input_dir.glob(f'**/{pattern}'))      "
   ]
  },
  {
   "cell_type": "code",
   "execution_count": null,
   "metadata": {},
   "outputs": [],
   "source": [
    "input_ = str(input_dir)\n",
    "input_ = input_.split('/')\n",
    "\n",
    "for path in paths:\n",
    "    filename = str(path)\n",
    "    \n",
    "    p = filename.split('/')\n",
    "    name, dot = p[-1].split('.')\n",
    "    \n",
    "    image = cv2.imread(filename)\n",
    "    image_path = output_dir.joinpath(input_[-1] + '_' + name + '.jpg')\n",
    "    cv2.imwrite(str(image_path), image)\n",
    "    \n",
    "    text_in_path = input_dir.joinpath(name + '.txt')\n",
    "    with open(str(text_in_path), \"r\") as f:\n",
    "        data = f.read()\n",
    "    \n",
    "    text_path = output_dir.joinpath(input_[-1] + '_' + name + '.txt')\n",
    "    with open(str(text_path), \"w\") as f:\n",
    "        f.write(data)\n",
    "        \n",
    "    label_path = output_dir.joinpath('A_label.txt')\n",
    "    with open(str(label_path), 'a') as f:\n",
    "        f.write(input_[-1] + '_' + name + '.jpg' + '\\t' + data + '\\n')"
   ]
  }
 ],
 "metadata": {
  "kernelspec": {
   "display_name": "Python 3",
   "language": "python",
   "name": "python3"
  },
  "language_info": {
   "codemirror_mode": {
    "name": "ipython",
    "version": 3
   },
   "file_extension": ".py",
   "mimetype": "text/x-python",
   "name": "python",
   "nbconvert_exporter": "python",
   "pygments_lexer": "ipython3",
   "version": "3.7.9"
  }
 },
 "nbformat": 4,
 "nbformat_minor": 4
}

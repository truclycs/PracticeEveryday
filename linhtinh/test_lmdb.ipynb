{
 "cells": [
  {
   "cell_type": "code",
   "execution_count": 1,
   "id": "e0437735-c83b-4c68-8251-e291960add97",
   "metadata": {},
   "outputs": [],
   "source": [
    "import lmdb"
   ]
  },
  {
   "cell_type": "markdown",
   "id": "7ec1e9f6-f3cd-4e69-8e4e-b2e793923d13",
   "metadata": {},
   "source": [
    "### *map_size* defines the maximum storage capacity in kb and the following defines 1TB capacity"
   ]
  },
  {
   "cell_type": "code",
   "execution_count": 2,
   "id": "bdb24197-9e27-4ce7-9f72-b83ec611f587",
   "metadata": {},
   "outputs": [],
   "source": [
    "env = lmdb.open('mylmdb', map_size=1099511627776)\n",
    "\n",
    "txn = env.begin(write=True)"
   ]
  },
  {
   "cell_type": "markdown",
   "id": "05dae3b4-e359-41bd-bc82-0f5f9cc7fd98",
   "metadata": {},
   "source": [
    "### Add data: key, value"
   ]
  },
  {
   "cell_type": "code",
   "execution_count": 3,
   "id": "e0b9a8de-c942-4f0f-b067-e589fc059d97",
   "metadata": {},
   "outputs": [
    {
     "data": {
      "text/plain": [
       "True"
      ]
     },
     "execution_count": 3,
     "metadata": {},
     "output_type": "execute_result"
    }
   ],
   "source": [
    "txn.put(key='1'.encode(), value='a'.encode())\n",
    "txn.put(key='2'.encode(), value='b'.encode())\n",
    "txn.put(key='3'.encode(), value='c'.encode())"
   ]
  },
  {
   "cell_type": "markdown",
   "id": "ac7a2977-8590-49e9-956b-e4efcba87d04",
   "metadata": {},
   "source": [
    "### Traverse all data (keys, values) through cursor()"
   ]
  },
  {
   "cell_type": "code",
   "execution_count": 4,
   "id": "fd6b907a-b509-481d-8cea-e502b8e6579d",
   "metadata": {},
   "outputs": [
    {
     "name": "stdout",
     "output_type": "stream",
     "text": [
      "b'1' b'a'\n",
      "b'2' b'b'\n",
      "b'3' b'c'\n"
     ]
    }
   ],
   "source": [
    "for key, value in txn.cursor():\n",
    "    print(key, value)"
   ]
  },
  {
   "cell_type": "markdown",
   "id": "9d276347-28b9-4506-a338-a98b29e89e50",
   "metadata": {},
   "source": [
    "### Delete data by key value"
   ]
  },
  {
   "cell_type": "code",
   "execution_count": 5,
   "id": "88f2d2f8-a71a-4be8-a673-b0d845554efc",
   "metadata": {},
   "outputs": [
    {
     "data": {
      "text/plain": [
       "True"
      ]
     },
     "execution_count": 5,
     "metadata": {},
     "output_type": "execute_result"
    }
   ],
   "source": [
    "txn.delete(key='1'.encode())"
   ]
  },
  {
   "cell_type": "code",
   "execution_count": 6,
   "id": "aceaa75f-0e26-44aa-957b-1b7ba29ec5f1",
   "metadata": {},
   "outputs": [
    {
     "name": "stdout",
     "output_type": "stream",
     "text": [
      "b'2' b'b'\n",
      "b'3' b'c'\n"
     ]
    }
   ],
   "source": [
    "for key, value in txn.cursor():\n",
    "    print(key, value)"
   ]
  },
  {
   "cell_type": "markdown",
   "id": "aaee17d8-ec4c-4436-b3de-a9e9efde3f3e",
   "metadata": {},
   "source": [
    "### Modify data"
   ]
  },
  {
   "cell_type": "code",
   "execution_count": 7,
   "id": "d75544ff-e151-4c83-aad7-27714d369b8a",
   "metadata": {},
   "outputs": [
    {
     "data": {
      "text/plain": [
       "True"
      ]
     },
     "execution_count": 7,
     "metadata": {},
     "output_type": "execute_result"
    }
   ],
   "source": [
    "txn.put(key='2'.encode(), value='trucly'.encode())"
   ]
  },
  {
   "cell_type": "code",
   "execution_count": 8,
   "id": "62a2181b-ad54-4b5f-aae2-c2d0e14ac903",
   "metadata": {},
   "outputs": [
    {
     "name": "stdout",
     "output_type": "stream",
     "text": [
      "b'2' b'trucly'\n",
      "b'3' b'c'\n"
     ]
    }
   ],
   "source": [
    "for key, value in txn.cursor():\n",
    "    print(key, value)"
   ]
  },
  {
   "cell_type": "code",
   "execution_count": 9,
   "id": "a7d199bc-5785-4c70-8722-66990392f29b",
   "metadata": {},
   "outputs": [],
   "source": [
    "txn.commit()\n",
    "# env.close()"
   ]
  },
  {
   "cell_type": "code",
   "execution_count": 10,
   "id": "88cbdb94-fd08-4e24-8d3b-f1c3ef05952b",
   "metadata": {},
   "outputs": [
    {
     "ename": "Error",
     "evalue": "Attempt to operate on closed/deleted/dropped object.",
     "output_type": "error",
     "traceback": [
      "\u001b[0;31m---------------------------------------------------------------------------\u001b[0m",
      "\u001b[0;31mError\u001b[0m                                     Traceback (most recent call last)",
      "\u001b[0;32m/tmp/ipykernel_138176/3157170631.py\u001b[0m in \u001b[0;36m<module>\u001b[0;34m\u001b[0m\n\u001b[0;32m----> 1\u001b[0;31m \u001b[0mtxn\u001b[0m\u001b[0;34m.\u001b[0m\u001b[0mput\u001b[0m\u001b[0;34m(\u001b[0m\u001b[0mkey\u001b[0m\u001b[0;34m=\u001b[0m\u001b[0;34m'4'\u001b[0m\u001b[0;34m.\u001b[0m\u001b[0mencode\u001b[0m\u001b[0;34m(\u001b[0m\u001b[0;34m)\u001b[0m\u001b[0;34m,\u001b[0m \u001b[0mvalue\u001b[0m\u001b[0;34m=\u001b[0m\u001b[0;34m'nttly'\u001b[0m\u001b[0;34m.\u001b[0m\u001b[0mencode\u001b[0m\u001b[0;34m(\u001b[0m\u001b[0;34m)\u001b[0m\u001b[0;34m)\u001b[0m\u001b[0;34m\u001b[0m\u001b[0;34m\u001b[0m\u001b[0m\n\u001b[0m",
      "\u001b[0;31mError\u001b[0m: Attempt to operate on closed/deleted/dropped object."
     ]
    }
   ],
   "source": [
    "txn.put(key='4'.encode(), value='nttly'.encode())"
   ]
  },
  {
   "cell_type": "markdown",
   "id": "d9979a9a-1ae7-4c9b-b2ca-0ea1b1e683e7",
   "metadata": {},
   "source": [
    "### QUERY LMDB DATA"
   ]
  },
  {
   "cell_type": "markdown",
   "id": "005c5259-af6d-4ff2-aa13-f921d6baec49",
   "metadata": {},
   "source": [
    "Nếu đã clode env thì không thể begin để dùng tiếp được, nếu chỉ commit thì có thể begin lại. write=True thì có thể chỉnh sửa, không có thì không thể thay đổi."
   ]
  },
  {
   "cell_type": "code",
   "execution_count": 11,
   "id": "45975ea9-1f43-4570-b458-5a91e9458c1b",
   "metadata": {},
   "outputs": [],
   "source": [
    "txn = env.begin(write=True)"
   ]
  },
  {
   "cell_type": "code",
   "execution_count": 12,
   "id": "483ef396-fc7f-4670-9d48-483846973a1b",
   "metadata": {},
   "outputs": [
    {
     "data": {
      "text/plain": [
       "True"
      ]
     },
     "execution_count": 12,
     "metadata": {},
     "output_type": "execute_result"
    }
   ],
   "source": [
    "txn.put(key='1'.encode(), value='a'.encode())\n",
    "txn.put(key='2'.encode(), value='b'.encode())\n",
    "txn.put(key='3'.encode(), value='c'.encode())"
   ]
  },
  {
   "cell_type": "code",
   "execution_count": 13,
   "id": "4dbd1377-a7de-46e2-a951-3a98fd29522e",
   "metadata": {},
   "outputs": [],
   "source": [
    "txn.commit()"
   ]
  },
  {
   "cell_type": "code",
   "execution_count": 14,
   "id": "0cebabd5-5c60-436d-99db-6c7eceadb50f",
   "metadata": {},
   "outputs": [
    {
     "ename": "Error",
     "evalue": "Attempt to operate on closed/deleted/dropped object.",
     "output_type": "error",
     "traceback": [
      "\u001b[0;31m---------------------------------------------------------------------------\u001b[0m",
      "\u001b[0;31mError\u001b[0m                                     Traceback (most recent call last)",
      "\u001b[0;32m/tmp/ipykernel_138176/3543139265.py\u001b[0m in \u001b[0;36m<module>\u001b[0;34m\u001b[0m\n\u001b[0;32m----> 1\u001b[0;31m \u001b[0;32mfor\u001b[0m \u001b[0mkey\u001b[0m\u001b[0;34m,\u001b[0m \u001b[0mvalue\u001b[0m \u001b[0;32min\u001b[0m \u001b[0mtxn\u001b[0m\u001b[0;34m.\u001b[0m\u001b[0mcursor\u001b[0m\u001b[0;34m(\u001b[0m\u001b[0;34m)\u001b[0m\u001b[0;34m:\u001b[0m\u001b[0;34m\u001b[0m\u001b[0;34m\u001b[0m\u001b[0m\n\u001b[0m\u001b[1;32m      2\u001b[0m     \u001b[0mprint\u001b[0m\u001b[0;34m(\u001b[0m\u001b[0mkey\u001b[0m\u001b[0;34m,\u001b[0m \u001b[0mvalue\u001b[0m\u001b[0;34m)\u001b[0m\u001b[0;34m\u001b[0m\u001b[0;34m\u001b[0m\u001b[0m\n",
      "\u001b[0;31mError\u001b[0m: Attempt to operate on closed/deleted/dropped object."
     ]
    }
   ],
   "source": [
    "for key, value in txn.cursor():\n",
    "    print(key, value)"
   ]
  },
  {
   "cell_type": "code",
   "execution_count": 15,
   "id": "fce93706-71c7-4035-921f-0a04409d72c5",
   "metadata": {},
   "outputs": [],
   "source": [
    "txn = env.begin()"
   ]
  },
  {
   "cell_type": "code",
   "execution_count": 16,
   "id": "30ab508a-25e9-4a6b-9385-432419ab21be",
   "metadata": {},
   "outputs": [
    {
     "name": "stdout",
     "output_type": "stream",
     "text": [
      "b'1' b'a'\n",
      "b'2' b'b'\n",
      "b'3' b'c'\n"
     ]
    }
   ],
   "source": [
    "for key, value in txn.cursor():\n",
    "    print(key, value)"
   ]
  },
  {
   "cell_type": "code",
   "execution_count": 17,
   "id": "65186d1a-1912-4b20-b511-6f377f903804",
   "metadata": {},
   "outputs": [
    {
     "data": {
      "text/plain": [
       "b'b'"
      ]
     },
     "execution_count": 17,
     "metadata": {},
     "output_type": "execute_result"
    }
   ],
   "source": [
    "txn.get('2'.encode())"
   ]
  },
  {
   "cell_type": "code",
   "execution_count": 18,
   "id": "2bf3c8e1-3e7f-479c-8b84-6c4c619ea71f",
   "metadata": {},
   "outputs": [
    {
     "name": "stdout",
     "output_type": "stream",
     "text": [
      "b'1' b'a'\n",
      "b'2' b'b'\n",
      "b'3' b'c'\n"
     ]
    }
   ],
   "source": [
    "for key, value in txn.cursor():\n",
    "    print(key, value)"
   ]
  },
  {
   "cell_type": "code",
   "execution_count": 19,
   "id": "98e8630f-adc3-4337-9c47-1d52a85bb7f6",
   "metadata": {},
   "outputs": [],
   "source": [
    "env.close()"
   ]
  },
  {
   "cell_type": "markdown",
   "id": "a707f99a-271f-4ccc-a037-97fca46b1af1",
   "metadata": {},
   "source": [
    "### Read the existed content (mdb file)"
   ]
  },
  {
   "cell_type": "code",
   "execution_count": 20,
   "id": "8ec1ca26-fb64-45f9-abcb-ca72f6304032",
   "metadata": {},
   "outputs": [],
   "source": [
    "env_db = lmdb.Environment('mylmdb')"
   ]
  },
  {
   "cell_type": "code",
   "execution_count": 21,
   "id": "6338886f-f3b5-4565-8d5e-c232a3d935b3",
   "metadata": {},
   "outputs": [],
   "source": [
    "txn = env_db.begin()"
   ]
  },
  {
   "cell_type": "code",
   "execution_count": 22,
   "id": "6c04742b-8f71-466b-8914-5d684fa617b1",
   "metadata": {},
   "outputs": [
    {
     "name": "stdout",
     "output_type": "stream",
     "text": [
      "b'1' b'a'\n",
      "b'2' b'b'\n",
      "b'3' b'c'\n"
     ]
    }
   ],
   "source": [
    "for key, value in txn.cursor():\n",
    "    print(key, value)"
   ]
  },
  {
   "cell_type": "code",
   "execution_count": 23,
   "id": "ca24e71e-bb39-4aec-a3ee-5fd01ff680ae",
   "metadata": {},
   "outputs": [],
   "source": [
    "env_db.close()"
   ]
  }
 ],
 "metadata": {
  "kernelspec": {
   "display_name": "Python 3",
   "language": "python",
   "name": "python3"
  },
  "language_info": {
   "codemirror_mode": {
    "name": "ipython",
    "version": 3
   },
   "file_extension": ".py",
   "mimetype": "text/x-python",
   "name": "python",
   "nbconvert_exporter": "python",
   "pygments_lexer": "ipython3",
   "version": "3.7.9"
  }
 },
 "nbformat": 4,
 "nbformat_minor": 5
}
